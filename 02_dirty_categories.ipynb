{
  "cells": [
    {
      "cell_type": "markdown",
      "metadata": {
        "id": "view-in-github",
        "colab_type": "text"
      },
      "source": [
        "<a href=\"https://colab.research.google.com/github/ericfelipemoreira/HECSummerSchoolAI/blob/main/02_dirty_categories.ipynb\" target=\"_parent\"><img src=\"https://colab.research.google.com/assets/colab-badge.svg\" alt=\"Open In Colab\"/></a>"
      ]
    },
    {
      "cell_type": "markdown",
      "metadata": {
        "id": "aXuGVx6pU2yY"
      },
      "source": [
        "\n",
        "# Dirty categories: learning with non normalized strings\n",
        "\n",
        "Including strings that represent categories often calls for much data\n",
        "preparation. In particular categories may appear with many morphological\n",
        "variants, when they have been manually input, or assembled from diverse\n",
        "sources.\n",
        "\n",
        "Including such a column in a learning pipeline as a standard categorical\n",
        "colum leads to categories with very high cardinalities and can lose\n",
        "information on which categories are similar.\n",
        "\n",
        "Here we look at a dataset on wages [#]_ where the column *Employee\n",
        "Position Title* contains dirty categories.\n",
        "\n",
        ".. [#] https://catalog.data.gov/dataset/employee-salaries-2016\n",
        "\n",
        "We investigate encodings to include such compare different categorical\n",
        "encodings for the dirty column to predict the *Current Annual Salary*,\n",
        "using gradient boosted trees. For this purpose, we use the skrub\n",
        "library ( https://skrub-data.org ).\n"
      ]
    },
    {
      "cell_type": "markdown",
      "metadata": {
        "id": "6WhE6HaIU2yb"
      },
      "source": [
        ".. |SV| replace::\n",
        "    :class:`~skrub.TableVectorizer`\n",
        "\n",
        ".. |tabular_learner| replace::\n",
        "    :func:`~skrub.tabular_learner`\n",
        "\n",
        ".. |OneHotEncoder| replace::\n",
        "    :class:`~sklearn.preprocessing.OneHotEncoder`\n",
        "\n",
        ".. |RandomForestRegressor| replace::\n",
        "    :class:`~sklearn.ensemble.RandomForestRegressor`\n",
        "\n",
        ".. |SE| replace:: :class:`~skrub.SimilarityEncoder`\n",
        "\n",
        ".. |GapEncoder| replace:: :class:`~skrub.GapEncoder`\n",
        "\n",
        ".. |permutation importances| replace::\n",
        "    :func:`~sklearn.inspection.permutation_importance`\n",
        "\n",
        "\n",
        "## The data\n",
        "\n",
        "### Data Importing and preprocessing\n",
        "\n",
        "We first download the dataset:\n",
        "\n"
      ]
    },
    {
      "cell_type": "code",
      "source": [
        "%pip install skrub"
      ],
      "metadata": {
        "id": "X8p_q04XU-OL",
        "outputId": "579728ab-6455-4c8f-e87b-a83560eda441",
        "colab": {
          "base_uri": "https://localhost:8080/"
        }
      },
      "execution_count": 3,
      "outputs": [
        {
          "output_type": "stream",
          "name": "stdout",
          "text": [
            "Requirement already satisfied: skrub in /usr/local/lib/python3.10/dist-packages (0.2.0)\n",
            "Requirement already satisfied: numpy>=1.23.5 in /usr/local/lib/python3.10/dist-packages (from skrub) (1.25.2)\n",
            "Requirement already satisfied: packaging>=23.1 in /usr/local/lib/python3.10/dist-packages (from skrub) (24.1)\n",
            "Requirement already satisfied: pandas>=1.5.3 in /usr/local/lib/python3.10/dist-packages (from skrub) (2.0.3)\n",
            "Requirement already satisfied: scikit-learn>=1.2.1 in /usr/local/lib/python3.10/dist-packages (from skrub) (1.2.2)\n",
            "Requirement already satisfied: scipy>=1.9.3 in /usr/local/lib/python3.10/dist-packages (from skrub) (1.11.4)\n",
            "Requirement already satisfied: python-dateutil>=2.8.2 in /usr/local/lib/python3.10/dist-packages (from pandas>=1.5.3->skrub) (2.8.2)\n",
            "Requirement already satisfied: pytz>=2020.1 in /usr/local/lib/python3.10/dist-packages (from pandas>=1.5.3->skrub) (2023.4)\n",
            "Requirement already satisfied: tzdata>=2022.1 in /usr/local/lib/python3.10/dist-packages (from pandas>=1.5.3->skrub) (2024.1)\n",
            "Requirement already satisfied: joblib>=1.1.1 in /usr/local/lib/python3.10/dist-packages (from scikit-learn>=1.2.1->skrub) (1.4.2)\n",
            "Requirement already satisfied: threadpoolctl>=2.0.0 in /usr/local/lib/python3.10/dist-packages (from scikit-learn>=1.2.1->skrub) (3.5.0)\n",
            "Requirement already satisfied: six>=1.5 in /usr/local/lib/python3.10/dist-packages (from python-dateutil>=2.8.2->pandas>=1.5.3->skrub) (1.16.0)\n"
          ]
        }
      ]
    },
    {
      "cell_type": "code",
      "execution_count": 4,
      "metadata": {
        "id": "lSzei5JMU2yc",
        "outputId": "42377465-b0ce-4b48-d61e-65ea37579688",
        "colab": {
          "base_uri": "https://localhost:8080/"
        }
      },
      "outputs": [
        {
          "output_type": "stream",
          "name": "stdout",
          "text": [
            "Annual salary information including gross pay and overtime pay for all active, permanent employees of Montgomery County, MD paid in calendar year 2016. This information will be published annually each year.\n"
          ]
        }
      ],
      "source": [
        "from skrub.datasets import fetch_employee_salaries\n",
        "employee_salaries = fetch_employee_salaries()\n",
        "print(employee_salaries.description)"
      ]
    },
    {
      "cell_type": "markdown",
      "metadata": {
        "id": "xGcWj887U2yd"
      },
      "source": [
        "Then we load it:\n",
        "\n"
      ]
    },
    {
      "cell_type": "code",
      "execution_count": 5,
      "metadata": {
        "id": "dyhS4g_QU2yd",
        "colab": {
          "base_uri": "https://localhost:8080/",
          "height": 538
        },
        "outputId": "9afe4cb2-a51b-4851-afcb-1b415401b351"
      },
      "outputs": [
        {
          "output_type": "execute_result",
          "data": {
            "text/plain": [
              "     gender department                              department_name  \\\n",
              "0         F        POL                         Department of Police   \n",
              "1         M        POL                         Department of Police   \n",
              "2         F        HHS      Department of Health and Human Services   \n",
              "3         M        COR                Correction and Rehabilitation   \n",
              "4         M        HCA  Department of Housing and Community Affairs   \n",
              "...     ...        ...                                          ...   \n",
              "9223      F        HHS      Department of Health and Human Services   \n",
              "9224      F        FRS                     Fire and Rescue Services   \n",
              "9225      M        HHS      Department of Health and Human Services   \n",
              "9226      M        CCL                               County Council   \n",
              "9227      M        DLC                 Department of Liquor Control   \n",
              "\n",
              "                                               division assignment_category  \\\n",
              "0     MSB Information Mgmt and Tech Division Records...    Fulltime-Regular   \n",
              "1            ISB Major Crimes Division Fugitive Section    Fulltime-Regular   \n",
              "2         Adult Protective and Case Management Services    Fulltime-Regular   \n",
              "3                            PRRS Facility and Security    Fulltime-Regular   \n",
              "4                           Affordable Housing Programs    Fulltime-Regular   \n",
              "...                                                 ...                 ...   \n",
              "9223                        School Based Health Centers    Fulltime-Regular   \n",
              "9224                           Human Resources Division    Fulltime-Regular   \n",
              "9225  Child and Adolescent Mental Health Clinic Serv...    Parttime-Regular   \n",
              "9226                              Council Central Staff    Fulltime-Regular   \n",
              "9227                Licensure, Regulation and Education    Fulltime-Regular   \n",
              "\n",
              "                        employee_position_title date_first_hired  \\\n",
              "0                   Office Services Coordinator       09/22/1986   \n",
              "1                         Master Police Officer       09/12/1988   \n",
              "2                              Social Worker IV       11/19/1989   \n",
              "3                        Resident Supervisor II       05/05/2014   \n",
              "4                       Planning Specialist III       03/05/2007   \n",
              "...                                         ...              ...   \n",
              "9223                  Community Health Nurse II       11/03/2015   \n",
              "9224                 Fire/Rescue Division Chief       11/28/1988   \n",
              "9225           Medical Doctor IV - Psychiatrist       04/30/2001   \n",
              "9226                                 Manager II       09/05/2006   \n",
              "9227  Alcohol/Tobacco Enforcement Specialist II       01/30/2012   \n",
              "\n",
              "      year_first_hired  \n",
              "0                 1986  \n",
              "1                 1988  \n",
              "2                 1989  \n",
              "3                 2014  \n",
              "4                 2007  \n",
              "...                ...  \n",
              "9223              2015  \n",
              "9224              1988  \n",
              "9225              2001  \n",
              "9226              2006  \n",
              "9227              2012  \n",
              "\n",
              "[9228 rows x 8 columns]"
            ],
            "text/html": [
              "\n",
              "  <div id=\"df-89acef23-87a1-4acc-bf67-823484b4ff5f\" class=\"colab-df-container\">\n",
              "    <div>\n",
              "<style scoped>\n",
              "    .dataframe tbody tr th:only-of-type {\n",
              "        vertical-align: middle;\n",
              "    }\n",
              "\n",
              "    .dataframe tbody tr th {\n",
              "        vertical-align: top;\n",
              "    }\n",
              "\n",
              "    .dataframe thead th {\n",
              "        text-align: right;\n",
              "    }\n",
              "</style>\n",
              "<table border=\"1\" class=\"dataframe\">\n",
              "  <thead>\n",
              "    <tr style=\"text-align: right;\">\n",
              "      <th></th>\n",
              "      <th>gender</th>\n",
              "      <th>department</th>\n",
              "      <th>department_name</th>\n",
              "      <th>division</th>\n",
              "      <th>assignment_category</th>\n",
              "      <th>employee_position_title</th>\n",
              "      <th>date_first_hired</th>\n",
              "      <th>year_first_hired</th>\n",
              "    </tr>\n",
              "  </thead>\n",
              "  <tbody>\n",
              "    <tr>\n",
              "      <th>0</th>\n",
              "      <td>F</td>\n",
              "      <td>POL</td>\n",
              "      <td>Department of Police</td>\n",
              "      <td>MSB Information Mgmt and Tech Division Records...</td>\n",
              "      <td>Fulltime-Regular</td>\n",
              "      <td>Office Services Coordinator</td>\n",
              "      <td>09/22/1986</td>\n",
              "      <td>1986</td>\n",
              "    </tr>\n",
              "    <tr>\n",
              "      <th>1</th>\n",
              "      <td>M</td>\n",
              "      <td>POL</td>\n",
              "      <td>Department of Police</td>\n",
              "      <td>ISB Major Crimes Division Fugitive Section</td>\n",
              "      <td>Fulltime-Regular</td>\n",
              "      <td>Master Police Officer</td>\n",
              "      <td>09/12/1988</td>\n",
              "      <td>1988</td>\n",
              "    </tr>\n",
              "    <tr>\n",
              "      <th>2</th>\n",
              "      <td>F</td>\n",
              "      <td>HHS</td>\n",
              "      <td>Department of Health and Human Services</td>\n",
              "      <td>Adult Protective and Case Management Services</td>\n",
              "      <td>Fulltime-Regular</td>\n",
              "      <td>Social Worker IV</td>\n",
              "      <td>11/19/1989</td>\n",
              "      <td>1989</td>\n",
              "    </tr>\n",
              "    <tr>\n",
              "      <th>3</th>\n",
              "      <td>M</td>\n",
              "      <td>COR</td>\n",
              "      <td>Correction and Rehabilitation</td>\n",
              "      <td>PRRS Facility and Security</td>\n",
              "      <td>Fulltime-Regular</td>\n",
              "      <td>Resident Supervisor II</td>\n",
              "      <td>05/05/2014</td>\n",
              "      <td>2014</td>\n",
              "    </tr>\n",
              "    <tr>\n",
              "      <th>4</th>\n",
              "      <td>M</td>\n",
              "      <td>HCA</td>\n",
              "      <td>Department of Housing and Community Affairs</td>\n",
              "      <td>Affordable Housing Programs</td>\n",
              "      <td>Fulltime-Regular</td>\n",
              "      <td>Planning Specialist III</td>\n",
              "      <td>03/05/2007</td>\n",
              "      <td>2007</td>\n",
              "    </tr>\n",
              "    <tr>\n",
              "      <th>...</th>\n",
              "      <td>...</td>\n",
              "      <td>...</td>\n",
              "      <td>...</td>\n",
              "      <td>...</td>\n",
              "      <td>...</td>\n",
              "      <td>...</td>\n",
              "      <td>...</td>\n",
              "      <td>...</td>\n",
              "    </tr>\n",
              "    <tr>\n",
              "      <th>9223</th>\n",
              "      <td>F</td>\n",
              "      <td>HHS</td>\n",
              "      <td>Department of Health and Human Services</td>\n",
              "      <td>School Based Health Centers</td>\n",
              "      <td>Fulltime-Regular</td>\n",
              "      <td>Community Health Nurse II</td>\n",
              "      <td>11/03/2015</td>\n",
              "      <td>2015</td>\n",
              "    </tr>\n",
              "    <tr>\n",
              "      <th>9224</th>\n",
              "      <td>F</td>\n",
              "      <td>FRS</td>\n",
              "      <td>Fire and Rescue Services</td>\n",
              "      <td>Human Resources Division</td>\n",
              "      <td>Fulltime-Regular</td>\n",
              "      <td>Fire/Rescue Division Chief</td>\n",
              "      <td>11/28/1988</td>\n",
              "      <td>1988</td>\n",
              "    </tr>\n",
              "    <tr>\n",
              "      <th>9225</th>\n",
              "      <td>M</td>\n",
              "      <td>HHS</td>\n",
              "      <td>Department of Health and Human Services</td>\n",
              "      <td>Child and Adolescent Mental Health Clinic Serv...</td>\n",
              "      <td>Parttime-Regular</td>\n",
              "      <td>Medical Doctor IV - Psychiatrist</td>\n",
              "      <td>04/30/2001</td>\n",
              "      <td>2001</td>\n",
              "    </tr>\n",
              "    <tr>\n",
              "      <th>9226</th>\n",
              "      <td>M</td>\n",
              "      <td>CCL</td>\n",
              "      <td>County Council</td>\n",
              "      <td>Council Central Staff</td>\n",
              "      <td>Fulltime-Regular</td>\n",
              "      <td>Manager II</td>\n",
              "      <td>09/05/2006</td>\n",
              "      <td>2006</td>\n",
              "    </tr>\n",
              "    <tr>\n",
              "      <th>9227</th>\n",
              "      <td>M</td>\n",
              "      <td>DLC</td>\n",
              "      <td>Department of Liquor Control</td>\n",
              "      <td>Licensure, Regulation and Education</td>\n",
              "      <td>Fulltime-Regular</td>\n",
              "      <td>Alcohol/Tobacco Enforcement Specialist II</td>\n",
              "      <td>01/30/2012</td>\n",
              "      <td>2012</td>\n",
              "    </tr>\n",
              "  </tbody>\n",
              "</table>\n",
              "<p>9228 rows × 8 columns</p>\n",
              "</div>\n",
              "    <div class=\"colab-df-buttons\">\n",
              "\n",
              "  <div class=\"colab-df-container\">\n",
              "    <button class=\"colab-df-convert\" onclick=\"convertToInteractive('df-89acef23-87a1-4acc-bf67-823484b4ff5f')\"\n",
              "            title=\"Convert this dataframe to an interactive table.\"\n",
              "            style=\"display:none;\">\n",
              "\n",
              "  <svg xmlns=\"http://www.w3.org/2000/svg\" height=\"24px\" viewBox=\"0 -960 960 960\">\n",
              "    <path d=\"M120-120v-720h720v720H120Zm60-500h600v-160H180v160Zm220 220h160v-160H400v160Zm0 220h160v-160H400v160ZM180-400h160v-160H180v160Zm440 0h160v-160H620v160ZM180-180h160v-160H180v160Zm440 0h160v-160H620v160Z\"/>\n",
              "  </svg>\n",
              "    </button>\n",
              "\n",
              "  <style>\n",
              "    .colab-df-container {\n",
              "      display:flex;\n",
              "      gap: 12px;\n",
              "    }\n",
              "\n",
              "    .colab-df-convert {\n",
              "      background-color: #E8F0FE;\n",
              "      border: none;\n",
              "      border-radius: 50%;\n",
              "      cursor: pointer;\n",
              "      display: none;\n",
              "      fill: #1967D2;\n",
              "      height: 32px;\n",
              "      padding: 0 0 0 0;\n",
              "      width: 32px;\n",
              "    }\n",
              "\n",
              "    .colab-df-convert:hover {\n",
              "      background-color: #E2EBFA;\n",
              "      box-shadow: 0px 1px 2px rgba(60, 64, 67, 0.3), 0px 1px 3px 1px rgba(60, 64, 67, 0.15);\n",
              "      fill: #174EA6;\n",
              "    }\n",
              "\n",
              "    .colab-df-buttons div {\n",
              "      margin-bottom: 4px;\n",
              "    }\n",
              "\n",
              "    [theme=dark] .colab-df-convert {\n",
              "      background-color: #3B4455;\n",
              "      fill: #D2E3FC;\n",
              "    }\n",
              "\n",
              "    [theme=dark] .colab-df-convert:hover {\n",
              "      background-color: #434B5C;\n",
              "      box-shadow: 0px 1px 3px 1px rgba(0, 0, 0, 0.15);\n",
              "      filter: drop-shadow(0px 1px 2px rgba(0, 0, 0, 0.3));\n",
              "      fill: #FFFFFF;\n",
              "    }\n",
              "  </style>\n",
              "\n",
              "    <script>\n",
              "      const buttonEl =\n",
              "        document.querySelector('#df-89acef23-87a1-4acc-bf67-823484b4ff5f button.colab-df-convert');\n",
              "      buttonEl.style.display =\n",
              "        google.colab.kernel.accessAllowed ? 'block' : 'none';\n",
              "\n",
              "      async function convertToInteractive(key) {\n",
              "        const element = document.querySelector('#df-89acef23-87a1-4acc-bf67-823484b4ff5f');\n",
              "        const dataTable =\n",
              "          await google.colab.kernel.invokeFunction('convertToInteractive',\n",
              "                                                    [key], {});\n",
              "        if (!dataTable) return;\n",
              "\n",
              "        const docLinkHtml = 'Like what you see? Visit the ' +\n",
              "          '<a target=\"_blank\" href=https://colab.research.google.com/notebooks/data_table.ipynb>data table notebook</a>'\n",
              "          + ' to learn more about interactive tables.';\n",
              "        element.innerHTML = '';\n",
              "        dataTable['output_type'] = 'display_data';\n",
              "        await google.colab.output.renderOutput(dataTable, element);\n",
              "        const docLink = document.createElement('div');\n",
              "        docLink.innerHTML = docLinkHtml;\n",
              "        element.appendChild(docLink);\n",
              "      }\n",
              "    </script>\n",
              "  </div>\n",
              "\n",
              "\n",
              "<div id=\"df-54df591f-372d-44b3-9eea-821f3eecee8b\">\n",
              "  <button class=\"colab-df-quickchart\" onclick=\"quickchart('df-54df591f-372d-44b3-9eea-821f3eecee8b')\"\n",
              "            title=\"Suggest charts\"\n",
              "            style=\"display:none;\">\n",
              "\n",
              "<svg xmlns=\"http://www.w3.org/2000/svg\" height=\"24px\"viewBox=\"0 0 24 24\"\n",
              "     width=\"24px\">\n",
              "    <g>\n",
              "        <path d=\"M19 3H5c-1.1 0-2 .9-2 2v14c0 1.1.9 2 2 2h14c1.1 0 2-.9 2-2V5c0-1.1-.9-2-2-2zM9 17H7v-7h2v7zm4 0h-2V7h2v10zm4 0h-2v-4h2v4z\"/>\n",
              "    </g>\n",
              "</svg>\n",
              "  </button>\n",
              "\n",
              "<style>\n",
              "  .colab-df-quickchart {\n",
              "      --bg-color: #E8F0FE;\n",
              "      --fill-color: #1967D2;\n",
              "      --hover-bg-color: #E2EBFA;\n",
              "      --hover-fill-color: #174EA6;\n",
              "      --disabled-fill-color: #AAA;\n",
              "      --disabled-bg-color: #DDD;\n",
              "  }\n",
              "\n",
              "  [theme=dark] .colab-df-quickchart {\n",
              "      --bg-color: #3B4455;\n",
              "      --fill-color: #D2E3FC;\n",
              "      --hover-bg-color: #434B5C;\n",
              "      --hover-fill-color: #FFFFFF;\n",
              "      --disabled-bg-color: #3B4455;\n",
              "      --disabled-fill-color: #666;\n",
              "  }\n",
              "\n",
              "  .colab-df-quickchart {\n",
              "    background-color: var(--bg-color);\n",
              "    border: none;\n",
              "    border-radius: 50%;\n",
              "    cursor: pointer;\n",
              "    display: none;\n",
              "    fill: var(--fill-color);\n",
              "    height: 32px;\n",
              "    padding: 0;\n",
              "    width: 32px;\n",
              "  }\n",
              "\n",
              "  .colab-df-quickchart:hover {\n",
              "    background-color: var(--hover-bg-color);\n",
              "    box-shadow: 0 1px 2px rgba(60, 64, 67, 0.3), 0 1px 3px 1px rgba(60, 64, 67, 0.15);\n",
              "    fill: var(--button-hover-fill-color);\n",
              "  }\n",
              "\n",
              "  .colab-df-quickchart-complete:disabled,\n",
              "  .colab-df-quickchart-complete:disabled:hover {\n",
              "    background-color: var(--disabled-bg-color);\n",
              "    fill: var(--disabled-fill-color);\n",
              "    box-shadow: none;\n",
              "  }\n",
              "\n",
              "  .colab-df-spinner {\n",
              "    border: 2px solid var(--fill-color);\n",
              "    border-color: transparent;\n",
              "    border-bottom-color: var(--fill-color);\n",
              "    animation:\n",
              "      spin 1s steps(1) infinite;\n",
              "  }\n",
              "\n",
              "  @keyframes spin {\n",
              "    0% {\n",
              "      border-color: transparent;\n",
              "      border-bottom-color: var(--fill-color);\n",
              "      border-left-color: var(--fill-color);\n",
              "    }\n",
              "    20% {\n",
              "      border-color: transparent;\n",
              "      border-left-color: var(--fill-color);\n",
              "      border-top-color: var(--fill-color);\n",
              "    }\n",
              "    30% {\n",
              "      border-color: transparent;\n",
              "      border-left-color: var(--fill-color);\n",
              "      border-top-color: var(--fill-color);\n",
              "      border-right-color: var(--fill-color);\n",
              "    }\n",
              "    40% {\n",
              "      border-color: transparent;\n",
              "      border-right-color: var(--fill-color);\n",
              "      border-top-color: var(--fill-color);\n",
              "    }\n",
              "    60% {\n",
              "      border-color: transparent;\n",
              "      border-right-color: var(--fill-color);\n",
              "    }\n",
              "    80% {\n",
              "      border-color: transparent;\n",
              "      border-right-color: var(--fill-color);\n",
              "      border-bottom-color: var(--fill-color);\n",
              "    }\n",
              "    90% {\n",
              "      border-color: transparent;\n",
              "      border-bottom-color: var(--fill-color);\n",
              "    }\n",
              "  }\n",
              "</style>\n",
              "\n",
              "  <script>\n",
              "    async function quickchart(key) {\n",
              "      const quickchartButtonEl =\n",
              "        document.querySelector('#' + key + ' button');\n",
              "      quickchartButtonEl.disabled = true;  // To prevent multiple clicks.\n",
              "      quickchartButtonEl.classList.add('colab-df-spinner');\n",
              "      try {\n",
              "        const charts = await google.colab.kernel.invokeFunction(\n",
              "            'suggestCharts', [key], {});\n",
              "      } catch (error) {\n",
              "        console.error('Error during call to suggestCharts:', error);\n",
              "      }\n",
              "      quickchartButtonEl.classList.remove('colab-df-spinner');\n",
              "      quickchartButtonEl.classList.add('colab-df-quickchart-complete');\n",
              "    }\n",
              "    (() => {\n",
              "      let quickchartButtonEl =\n",
              "        document.querySelector('#df-54df591f-372d-44b3-9eea-821f3eecee8b button');\n",
              "      quickchartButtonEl.style.display =\n",
              "        google.colab.kernel.accessAllowed ? 'block' : 'none';\n",
              "    })();\n",
              "  </script>\n",
              "</div>\n",
              "\n",
              "  <div id=\"id_60b80d42-4aab-42aa-872e-edae3b53d861\">\n",
              "    <style>\n",
              "      .colab-df-generate {\n",
              "        background-color: #E8F0FE;\n",
              "        border: none;\n",
              "        border-radius: 50%;\n",
              "        cursor: pointer;\n",
              "        display: none;\n",
              "        fill: #1967D2;\n",
              "        height: 32px;\n",
              "        padding: 0 0 0 0;\n",
              "        width: 32px;\n",
              "      }\n",
              "\n",
              "      .colab-df-generate:hover {\n",
              "        background-color: #E2EBFA;\n",
              "        box-shadow: 0px 1px 2px rgba(60, 64, 67, 0.3), 0px 1px 3px 1px rgba(60, 64, 67, 0.15);\n",
              "        fill: #174EA6;\n",
              "      }\n",
              "\n",
              "      [theme=dark] .colab-df-generate {\n",
              "        background-color: #3B4455;\n",
              "        fill: #D2E3FC;\n",
              "      }\n",
              "\n",
              "      [theme=dark] .colab-df-generate:hover {\n",
              "        background-color: #434B5C;\n",
              "        box-shadow: 0px 1px 3px 1px rgba(0, 0, 0, 0.15);\n",
              "        filter: drop-shadow(0px 1px 2px rgba(0, 0, 0, 0.3));\n",
              "        fill: #FFFFFF;\n",
              "      }\n",
              "    </style>\n",
              "    <button class=\"colab-df-generate\" onclick=\"generateWithVariable('df')\"\n",
              "            title=\"Generate code using this dataframe.\"\n",
              "            style=\"display:none;\">\n",
              "\n",
              "  <svg xmlns=\"http://www.w3.org/2000/svg\" height=\"24px\"viewBox=\"0 0 24 24\"\n",
              "       width=\"24px\">\n",
              "    <path d=\"M7,19H8.4L18.45,9,17,7.55,7,17.6ZM5,21V16.75L18.45,3.32a2,2,0,0,1,2.83,0l1.4,1.43a1.91,1.91,0,0,1,.58,1.4,1.91,1.91,0,0,1-.58,1.4L9.25,21ZM18.45,9,17,7.55Zm-12,3A5.31,5.31,0,0,0,4.9,8.1,5.31,5.31,0,0,0,1,6.5,5.31,5.31,0,0,0,4.9,4.9,5.31,5.31,0,0,0,6.5,1,5.31,5.31,0,0,0,8.1,4.9,5.31,5.31,0,0,0,12,6.5,5.46,5.46,0,0,0,6.5,12Z\"/>\n",
              "  </svg>\n",
              "    </button>\n",
              "    <script>\n",
              "      (() => {\n",
              "      const buttonEl =\n",
              "        document.querySelector('#id_60b80d42-4aab-42aa-872e-edae3b53d861 button.colab-df-generate');\n",
              "      buttonEl.style.display =\n",
              "        google.colab.kernel.accessAllowed ? 'block' : 'none';\n",
              "\n",
              "      buttonEl.onclick = () => {\n",
              "        google.colab.notebook.generateWithVariable('df');\n",
              "      }\n",
              "      })();\n",
              "    </script>\n",
              "  </div>\n",
              "\n",
              "    </div>\n",
              "  </div>\n"
            ],
            "application/vnd.google.colaboratory.intrinsic+json": {
              "type": "dataframe",
              "variable_name": "df",
              "summary": "{\n  \"name\": \"df\",\n  \"rows\": 9228,\n  \"fields\": [\n    {\n      \"column\": \"gender\",\n      \"properties\": {\n        \"dtype\": \"category\",\n        \"num_unique_values\": 2,\n        \"samples\": [\n          \"M\",\n          \"F\"\n        ],\n        \"semantic_type\": \"\",\n        \"description\": \"\"\n      }\n    },\n    {\n      \"column\": \"department\",\n      \"properties\": {\n        \"dtype\": \"category\",\n        \"num_unique_values\": 37,\n        \"samples\": [\n          \"HRC\",\n          \"CEC\"\n        ],\n        \"semantic_type\": \"\",\n        \"description\": \"\"\n      }\n    },\n    {\n      \"column\": \"department_name\",\n      \"properties\": {\n        \"dtype\": \"category\",\n        \"num_unique_values\": 37,\n        \"samples\": [\n          \"Office of Human Rights\",\n          \"Community Engagement Cluster\"\n        ],\n        \"semantic_type\": \"\",\n        \"description\": \"\"\n      }\n    },\n    {\n      \"column\": \"division\",\n      \"properties\": {\n        \"dtype\": \"category\",\n        \"num_unique_values\": 694,\n        \"samples\": [\n          \"ETSD Network Services\",\n          \"Election Operations\"\n        ],\n        \"semantic_type\": \"\",\n        \"description\": \"\"\n      }\n    },\n    {\n      \"column\": \"assignment_category\",\n      \"properties\": {\n        \"dtype\": \"category\",\n        \"num_unique_values\": 2,\n        \"samples\": [\n          \"Parttime-Regular\",\n          \"Fulltime-Regular\"\n        ],\n        \"semantic_type\": \"\",\n        \"description\": \"\"\n      }\n    },\n    {\n      \"column\": \"employee_position_title\",\n      \"properties\": {\n        \"dtype\": \"category\",\n        \"num_unique_values\": 443,\n        \"samples\": [\n          \"Community Health Clinic Technician Leader\",\n          \"Transit Coordinator\"\n        ],\n        \"semantic_type\": \"\",\n        \"description\": \"\"\n      }\n    },\n    {\n      \"column\": \"date_first_hired\",\n      \"properties\": {\n        \"dtype\": \"object\",\n        \"num_unique_values\": 2264,\n        \"samples\": [\n          \"01/11/1987\",\n          \"03/13/2000\"\n        ],\n        \"semantic_type\": \"\",\n        \"description\": \"\"\n      }\n    },\n    {\n      \"column\": \"year_first_hired\",\n      \"properties\": {\n        \"dtype\": \"number\",\n        \"std\": 9,\n        \"min\": 1965,\n        \"max\": 2016,\n        \"num_unique_values\": 51,\n        \"samples\": [\n          1967,\n          1972\n        ],\n        \"semantic_type\": \"\",\n        \"description\": \"\"\n      }\n    }\n  ]\n}"
            }
          },
          "metadata": {},
          "execution_count": 5
        }
      ],
      "source": [
        "import pandas as pd\n",
        "df = employee_salaries.X.copy()\n",
        "df"
      ]
    },
    {
      "cell_type": "markdown",
      "metadata": {
        "id": "89g5MeZoU2yd"
      },
      "source": [
        "Recover the target\n",
        "\n"
      ]
    },
    {
      "cell_type": "code",
      "execution_count": 6,
      "metadata": {
        "id": "byR8bOPoU2ye"
      },
      "outputs": [],
      "source": [
        "y = employee_salaries.y"
      ]
    },
    {
      "cell_type": "markdown",
      "metadata": {
        "id": "uDNZb33TU2ye"
      },
      "source": [
        "## A simple default as a learner\n",
        "\n",
        "The function |tabular_learner| is a simple way of creating a default\n",
        "learner for tabular_learner data:\n",
        "\n"
      ]
    },
    {
      "cell_type": "code",
      "execution_count": 7,
      "metadata": {
        "id": "iAebBNbHU2ye"
      },
      "outputs": [],
      "source": [
        "from skrub import tabular_learner\n",
        "model = tabular_learner(\"regressor\")"
      ]
    },
    {
      "cell_type": "markdown",
      "metadata": {
        "id": "1PWei17qU2ye"
      },
      "source": [
        "We can quickly compute its cross-validation score using the\n",
        "corresponding scikit-learn utility\n",
        "\n"
      ]
    },
    {
      "cell_type": "code",
      "execution_count": 8,
      "metadata": {
        "id": "Y-b-fJMGU2ye",
        "colab": {
          "base_uri": "https://localhost:8080/"
        },
        "outputId": "f46b03c4-199c-4c24-c8b8-fd87129a18a5"
      },
      "outputs": [
        {
          "output_type": "stream",
          "name": "stdout",
          "text": [
            "Prediction score: 0.91126242677003\n",
            "Training time: 5.878209209442138\n"
          ]
        }
      ],
      "source": [
        "from sklearn.model_selection import cross_validate\n",
        "import numpy as np\n",
        "\n",
        "results = cross_validate(model, df, y)\n",
        "print(f\"Prediction score: {np.mean(results['test_score'])}\")\n",
        "print(f\"Training time: {np.mean(results['fit_time'])}\")"
      ]
    },
    {
      "cell_type": "markdown",
      "metadata": {
        "id": "MRsic6lqU2ye"
      },
      "source": [
        "Below the hood, `model` is a pipeline:\n",
        "\n"
      ]
    },
    {
      "cell_type": "code",
      "execution_count": 9,
      "metadata": {
        "id": "LrFRLBQjU2yf",
        "colab": {
          "base_uri": "https://localhost:8080/",
          "height": 188
        },
        "outputId": "46ece13a-a276-4f3d-f8d0-43d0aa4e8d27"
      },
      "outputs": [
        {
          "output_type": "execute_result",
          "data": {
            "text/plain": [
              "Pipeline(steps=[('tablevectorizer',\n",
              "                 TableVectorizer(high_cardinality=MinHashEncoder(),\n",
              "                                 low_cardinality=OrdinalEncoder())),\n",
              "                ('histgradientboostingregressor',\n",
              "                 HistGradientBoostingRegressor())])"
            ],
            "text/html": [
              "<style>#sk-container-id-1 {color: black;background-color: white;}#sk-container-id-1 pre{padding: 0;}#sk-container-id-1 div.sk-toggleable {background-color: white;}#sk-container-id-1 label.sk-toggleable__label {cursor: pointer;display: block;width: 100%;margin-bottom: 0;padding: 0.3em;box-sizing: border-box;text-align: center;}#sk-container-id-1 label.sk-toggleable__label-arrow:before {content: \"▸\";float: left;margin-right: 0.25em;color: #696969;}#sk-container-id-1 label.sk-toggleable__label-arrow:hover:before {color: black;}#sk-container-id-1 div.sk-estimator:hover label.sk-toggleable__label-arrow:before {color: black;}#sk-container-id-1 div.sk-toggleable__content {max-height: 0;max-width: 0;overflow: hidden;text-align: left;background-color: #f0f8ff;}#sk-container-id-1 div.sk-toggleable__content pre {margin: 0.2em;color: black;border-radius: 0.25em;background-color: #f0f8ff;}#sk-container-id-1 input.sk-toggleable__control:checked~div.sk-toggleable__content {max-height: 200px;max-width: 100%;overflow: auto;}#sk-container-id-1 input.sk-toggleable__control:checked~label.sk-toggleable__label-arrow:before {content: \"▾\";}#sk-container-id-1 div.sk-estimator input.sk-toggleable__control:checked~label.sk-toggleable__label {background-color: #d4ebff;}#sk-container-id-1 div.sk-label input.sk-toggleable__control:checked~label.sk-toggleable__label {background-color: #d4ebff;}#sk-container-id-1 input.sk-hidden--visually {border: 0;clip: rect(1px 1px 1px 1px);clip: rect(1px, 1px, 1px, 1px);height: 1px;margin: -1px;overflow: hidden;padding: 0;position: absolute;width: 1px;}#sk-container-id-1 div.sk-estimator {font-family: monospace;background-color: #f0f8ff;border: 1px dotted black;border-radius: 0.25em;box-sizing: border-box;margin-bottom: 0.5em;}#sk-container-id-1 div.sk-estimator:hover {background-color: #d4ebff;}#sk-container-id-1 div.sk-parallel-item::after {content: \"\";width: 100%;border-bottom: 1px solid gray;flex-grow: 1;}#sk-container-id-1 div.sk-label:hover label.sk-toggleable__label {background-color: #d4ebff;}#sk-container-id-1 div.sk-serial::before {content: \"\";position: absolute;border-left: 1px solid gray;box-sizing: border-box;top: 0;bottom: 0;left: 50%;z-index: 0;}#sk-container-id-1 div.sk-serial {display: flex;flex-direction: column;align-items: center;background-color: white;padding-right: 0.2em;padding-left: 0.2em;position: relative;}#sk-container-id-1 div.sk-item {position: relative;z-index: 1;}#sk-container-id-1 div.sk-parallel {display: flex;align-items: stretch;justify-content: center;background-color: white;position: relative;}#sk-container-id-1 div.sk-item::before, #sk-container-id-1 div.sk-parallel-item::before {content: \"\";position: absolute;border-left: 1px solid gray;box-sizing: border-box;top: 0;bottom: 0;left: 50%;z-index: -1;}#sk-container-id-1 div.sk-parallel-item {display: flex;flex-direction: column;z-index: 1;position: relative;background-color: white;}#sk-container-id-1 div.sk-parallel-item:first-child::after {align-self: flex-end;width: 50%;}#sk-container-id-1 div.sk-parallel-item:last-child::after {align-self: flex-start;width: 50%;}#sk-container-id-1 div.sk-parallel-item:only-child::after {width: 0;}#sk-container-id-1 div.sk-dashed-wrapped {border: 1px dashed gray;margin: 0 0.4em 0.5em 0.4em;box-sizing: border-box;padding-bottom: 0.4em;background-color: white;}#sk-container-id-1 div.sk-label label {font-family: monospace;font-weight: bold;display: inline-block;line-height: 1.2em;}#sk-container-id-1 div.sk-label-container {text-align: center;}#sk-container-id-1 div.sk-container {/* jupyter's `normalize.less` sets `[hidden] { display: none; }` but bootstrap.min.css set `[hidden] { display: none !important; }` so we also need the `!important` here to be able to override the default hidden behavior on the sphinx rendered scikit-learn.org. See: https://github.com/scikit-learn/scikit-learn/issues/21755 */display: inline-block !important;position: relative;}#sk-container-id-1 div.sk-text-repr-fallback {display: none;}</style><div id=\"sk-container-id-1\" class=\"sk-top-container\"><div class=\"sk-text-repr-fallback\"><pre>Pipeline(steps=[(&#x27;tablevectorizer&#x27;,\n",
              "                 TableVectorizer(high_cardinality=MinHashEncoder(),\n",
              "                                 low_cardinality=OrdinalEncoder())),\n",
              "                (&#x27;histgradientboostingregressor&#x27;,\n",
              "                 HistGradientBoostingRegressor())])</pre><b>In a Jupyter environment, please rerun this cell to show the HTML representation or trust the notebook. <br />On GitHub, the HTML representation is unable to render, please try loading this page with nbviewer.org.</b></div><div class=\"sk-container\" hidden><div class=\"sk-item sk-dashed-wrapped\"><div class=\"sk-label-container\"><div class=\"sk-label sk-toggleable\"><input class=\"sk-toggleable__control sk-hidden--visually\" id=\"sk-estimator-id-1\" type=\"checkbox\" ><label for=\"sk-estimator-id-1\" class=\"sk-toggleable__label sk-toggleable__label-arrow\">Pipeline</label><div class=\"sk-toggleable__content\"><pre>Pipeline(steps=[(&#x27;tablevectorizer&#x27;,\n",
              "                 TableVectorizer(high_cardinality=MinHashEncoder(),\n",
              "                                 low_cardinality=OrdinalEncoder())),\n",
              "                (&#x27;histgradientboostingregressor&#x27;,\n",
              "                 HistGradientBoostingRegressor())])</pre></div></div></div><div class=\"sk-serial\"><div class=\"sk-item sk-dashed-wrapped\"><div class=\"sk-label-container\"><div class=\"sk-label sk-toggleable\"><input class=\"sk-toggleable__control sk-hidden--visually\" id=\"sk-estimator-id-2\" type=\"checkbox\" ><label for=\"sk-estimator-id-2\" class=\"sk-toggleable__label sk-toggleable__label-arrow\">tablevectorizer: TableVectorizer</label><div class=\"sk-toggleable__content\"><pre>TableVectorizer(high_cardinality=MinHashEncoder(),\n",
              "                low_cardinality=OrdinalEncoder())</pre></div></div></div><div class=\"sk-parallel\"><div class=\"sk-parallel-item\"><div class=\"sk-item\"><div class=\"sk-label-container\"><div class=\"sk-label sk-toggleable\"><input class=\"sk-toggleable__control sk-hidden--visually\" id=\"sk-estimator-id-3\" type=\"checkbox\" ><label for=\"sk-estimator-id-3\" class=\"sk-toggleable__label sk-toggleable__label-arrow\">datetime: DatetimeEncoder</label><div class=\"sk-toggleable__content\"><pre>DatetimeEncoder()</pre></div></div></div><div class=\"sk-serial\"><div class=\"sk-item\"><div class=\"sk-estimator sk-toggleable\"><input class=\"sk-toggleable__control sk-hidden--visually\" id=\"sk-estimator-id-4\" type=\"checkbox\" ><label for=\"sk-estimator-id-4\" class=\"sk-toggleable__label sk-toggleable__label-arrow\">DatetimeEncoder</label><div class=\"sk-toggleable__content\"><pre>DatetimeEncoder()</pre></div></div></div></div></div></div><div class=\"sk-parallel-item\"><div class=\"sk-item\"><div class=\"sk-label-container\"><div class=\"sk-label sk-toggleable\"><input class=\"sk-toggleable__control sk-hidden--visually\" id=\"sk-estimator-id-5\" type=\"checkbox\" ><label for=\"sk-estimator-id-5\" class=\"sk-toggleable__label sk-toggleable__label-arrow\">high_cardinality: MinHashEncoder</label><div class=\"sk-toggleable__content\"><pre>MinHashEncoder()</pre></div></div></div><div class=\"sk-serial\"><div class=\"sk-item\"><div class=\"sk-estimator sk-toggleable\"><input class=\"sk-toggleable__control sk-hidden--visually\" id=\"sk-estimator-id-6\" type=\"checkbox\" ><label for=\"sk-estimator-id-6\" class=\"sk-toggleable__label sk-toggleable__label-arrow\">MinHashEncoder</label><div class=\"sk-toggleable__content\"><pre>MinHashEncoder()</pre></div></div></div></div></div></div><div class=\"sk-parallel-item\"><div class=\"sk-item\"><div class=\"sk-label-container\"><div class=\"sk-label sk-toggleable\"><input class=\"sk-toggleable__control sk-hidden--visually\" id=\"sk-estimator-id-7\" type=\"checkbox\" ><label for=\"sk-estimator-id-7\" class=\"sk-toggleable__label sk-toggleable__label-arrow\">low_cardinality: OrdinalEncoder</label><div class=\"sk-toggleable__content\"><pre>OrdinalEncoder()</pre></div></div></div><div class=\"sk-serial\"><div class=\"sk-item\"><div class=\"sk-estimator sk-toggleable\"><input class=\"sk-toggleable__control sk-hidden--visually\" id=\"sk-estimator-id-8\" type=\"checkbox\" ><label for=\"sk-estimator-id-8\" class=\"sk-toggleable__label sk-toggleable__label-arrow\">OrdinalEncoder</label><div class=\"sk-toggleable__content\"><pre>OrdinalEncoder()</pre></div></div></div></div></div></div><div class=\"sk-parallel-item\"><div class=\"sk-item\"><div class=\"sk-label-container\"><div class=\"sk-label sk-toggleable\"><input class=\"sk-toggleable__control sk-hidden--visually\" id=\"sk-estimator-id-9\" type=\"checkbox\" ><label for=\"sk-estimator-id-9\" class=\"sk-toggleable__label sk-toggleable__label-arrow\">numeric: PassThrough</label><div class=\"sk-toggleable__content\"><pre>PassThrough()</pre></div></div></div><div class=\"sk-serial\"><div class=\"sk-item\"><div class=\"sk-estimator sk-toggleable\"><input class=\"sk-toggleable__control sk-hidden--visually\" id=\"sk-estimator-id-10\" type=\"checkbox\" ><label for=\"sk-estimator-id-10\" class=\"sk-toggleable__label sk-toggleable__label-arrow\">PassThrough</label><div class=\"sk-toggleable__content\"><pre>PassThrough()</pre></div></div></div></div></div></div></div></div><div class=\"sk-item\"><div class=\"sk-estimator sk-toggleable\"><input class=\"sk-toggleable__control sk-hidden--visually\" id=\"sk-estimator-id-11\" type=\"checkbox\" ><label for=\"sk-estimator-id-11\" class=\"sk-toggleable__label sk-toggleable__label-arrow\">HistGradientBoostingRegressor</label><div class=\"sk-toggleable__content\"><pre>HistGradientBoostingRegressor()</pre></div></div></div></div></div></div></div>"
            ]
          },
          "metadata": {},
          "execution_count": 9
        }
      ],
      "source": [
        "model"
      ]
    },
    {
      "cell_type": "markdown",
      "metadata": {
        "id": "imS90oP7U2yf"
      },
      "source": [
        "We can see that it is made of first a |SV|, and an\n",
        "HistGradientBoostingRegressor\n",
        "\n"
      ]
    },
    {
      "cell_type": "markdown",
      "metadata": {
        "id": "7toU7SFUU2yf"
      },
      "source": [
        "## Understanding the vectorizer + learner pipeline\n",
        "\n",
        "The number one difficulty is that our input is a complex and\n",
        "heterogeneous dataframe:\n",
        "\n"
      ]
    },
    {
      "cell_type": "code",
      "execution_count": 10,
      "metadata": {
        "id": "B4I17Av7U2yf",
        "colab": {
          "base_uri": "https://localhost:8080/",
          "height": 538
        },
        "outputId": "37e7a63b-2d7f-4011-829b-075d81236014"
      },
      "outputs": [
        {
          "output_type": "execute_result",
          "data": {
            "text/plain": [
              "     gender department                              department_name  \\\n",
              "0         F        POL                         Department of Police   \n",
              "1         M        POL                         Department of Police   \n",
              "2         F        HHS      Department of Health and Human Services   \n",
              "3         M        COR                Correction and Rehabilitation   \n",
              "4         M        HCA  Department of Housing and Community Affairs   \n",
              "...     ...        ...                                          ...   \n",
              "9223      F        HHS      Department of Health and Human Services   \n",
              "9224      F        FRS                     Fire and Rescue Services   \n",
              "9225      M        HHS      Department of Health and Human Services   \n",
              "9226      M        CCL                               County Council   \n",
              "9227      M        DLC                 Department of Liquor Control   \n",
              "\n",
              "                                               division assignment_category  \\\n",
              "0     MSB Information Mgmt and Tech Division Records...    Fulltime-Regular   \n",
              "1            ISB Major Crimes Division Fugitive Section    Fulltime-Regular   \n",
              "2         Adult Protective and Case Management Services    Fulltime-Regular   \n",
              "3                            PRRS Facility and Security    Fulltime-Regular   \n",
              "4                           Affordable Housing Programs    Fulltime-Regular   \n",
              "...                                                 ...                 ...   \n",
              "9223                        School Based Health Centers    Fulltime-Regular   \n",
              "9224                           Human Resources Division    Fulltime-Regular   \n",
              "9225  Child and Adolescent Mental Health Clinic Serv...    Parttime-Regular   \n",
              "9226                              Council Central Staff    Fulltime-Regular   \n",
              "9227                Licensure, Regulation and Education    Fulltime-Regular   \n",
              "\n",
              "                        employee_position_title date_first_hired  \\\n",
              "0                   Office Services Coordinator       09/22/1986   \n",
              "1                         Master Police Officer       09/12/1988   \n",
              "2                              Social Worker IV       11/19/1989   \n",
              "3                        Resident Supervisor II       05/05/2014   \n",
              "4                       Planning Specialist III       03/05/2007   \n",
              "...                                         ...              ...   \n",
              "9223                  Community Health Nurse II       11/03/2015   \n",
              "9224                 Fire/Rescue Division Chief       11/28/1988   \n",
              "9225           Medical Doctor IV - Psychiatrist       04/30/2001   \n",
              "9226                                 Manager II       09/05/2006   \n",
              "9227  Alcohol/Tobacco Enforcement Specialist II       01/30/2012   \n",
              "\n",
              "      year_first_hired  \n",
              "0                 1986  \n",
              "1                 1988  \n",
              "2                 1989  \n",
              "3                 2014  \n",
              "4                 2007  \n",
              "...                ...  \n",
              "9223              2015  \n",
              "9224              1988  \n",
              "9225              2001  \n",
              "9226              2006  \n",
              "9227              2012  \n",
              "\n",
              "[9228 rows x 8 columns]"
            ],
            "text/html": [
              "\n",
              "  <div id=\"df-95528a7c-a381-40f5-b317-d67e0471159a\" class=\"colab-df-container\">\n",
              "    <div>\n",
              "<style scoped>\n",
              "    .dataframe tbody tr th:only-of-type {\n",
              "        vertical-align: middle;\n",
              "    }\n",
              "\n",
              "    .dataframe tbody tr th {\n",
              "        vertical-align: top;\n",
              "    }\n",
              "\n",
              "    .dataframe thead th {\n",
              "        text-align: right;\n",
              "    }\n",
              "</style>\n",
              "<table border=\"1\" class=\"dataframe\">\n",
              "  <thead>\n",
              "    <tr style=\"text-align: right;\">\n",
              "      <th></th>\n",
              "      <th>gender</th>\n",
              "      <th>department</th>\n",
              "      <th>department_name</th>\n",
              "      <th>division</th>\n",
              "      <th>assignment_category</th>\n",
              "      <th>employee_position_title</th>\n",
              "      <th>date_first_hired</th>\n",
              "      <th>year_first_hired</th>\n",
              "    </tr>\n",
              "  </thead>\n",
              "  <tbody>\n",
              "    <tr>\n",
              "      <th>0</th>\n",
              "      <td>F</td>\n",
              "      <td>POL</td>\n",
              "      <td>Department of Police</td>\n",
              "      <td>MSB Information Mgmt and Tech Division Records...</td>\n",
              "      <td>Fulltime-Regular</td>\n",
              "      <td>Office Services Coordinator</td>\n",
              "      <td>09/22/1986</td>\n",
              "      <td>1986</td>\n",
              "    </tr>\n",
              "    <tr>\n",
              "      <th>1</th>\n",
              "      <td>M</td>\n",
              "      <td>POL</td>\n",
              "      <td>Department of Police</td>\n",
              "      <td>ISB Major Crimes Division Fugitive Section</td>\n",
              "      <td>Fulltime-Regular</td>\n",
              "      <td>Master Police Officer</td>\n",
              "      <td>09/12/1988</td>\n",
              "      <td>1988</td>\n",
              "    </tr>\n",
              "    <tr>\n",
              "      <th>2</th>\n",
              "      <td>F</td>\n",
              "      <td>HHS</td>\n",
              "      <td>Department of Health and Human Services</td>\n",
              "      <td>Adult Protective and Case Management Services</td>\n",
              "      <td>Fulltime-Regular</td>\n",
              "      <td>Social Worker IV</td>\n",
              "      <td>11/19/1989</td>\n",
              "      <td>1989</td>\n",
              "    </tr>\n",
              "    <tr>\n",
              "      <th>3</th>\n",
              "      <td>M</td>\n",
              "      <td>COR</td>\n",
              "      <td>Correction and Rehabilitation</td>\n",
              "      <td>PRRS Facility and Security</td>\n",
              "      <td>Fulltime-Regular</td>\n",
              "      <td>Resident Supervisor II</td>\n",
              "      <td>05/05/2014</td>\n",
              "      <td>2014</td>\n",
              "    </tr>\n",
              "    <tr>\n",
              "      <th>4</th>\n",
              "      <td>M</td>\n",
              "      <td>HCA</td>\n",
              "      <td>Department of Housing and Community Affairs</td>\n",
              "      <td>Affordable Housing Programs</td>\n",
              "      <td>Fulltime-Regular</td>\n",
              "      <td>Planning Specialist III</td>\n",
              "      <td>03/05/2007</td>\n",
              "      <td>2007</td>\n",
              "    </tr>\n",
              "    <tr>\n",
              "      <th>...</th>\n",
              "      <td>...</td>\n",
              "      <td>...</td>\n",
              "      <td>...</td>\n",
              "      <td>...</td>\n",
              "      <td>...</td>\n",
              "      <td>...</td>\n",
              "      <td>...</td>\n",
              "      <td>...</td>\n",
              "    </tr>\n",
              "    <tr>\n",
              "      <th>9223</th>\n",
              "      <td>F</td>\n",
              "      <td>HHS</td>\n",
              "      <td>Department of Health and Human Services</td>\n",
              "      <td>School Based Health Centers</td>\n",
              "      <td>Fulltime-Regular</td>\n",
              "      <td>Community Health Nurse II</td>\n",
              "      <td>11/03/2015</td>\n",
              "      <td>2015</td>\n",
              "    </tr>\n",
              "    <tr>\n",
              "      <th>9224</th>\n",
              "      <td>F</td>\n",
              "      <td>FRS</td>\n",
              "      <td>Fire and Rescue Services</td>\n",
              "      <td>Human Resources Division</td>\n",
              "      <td>Fulltime-Regular</td>\n",
              "      <td>Fire/Rescue Division Chief</td>\n",
              "      <td>11/28/1988</td>\n",
              "      <td>1988</td>\n",
              "    </tr>\n",
              "    <tr>\n",
              "      <th>9225</th>\n",
              "      <td>M</td>\n",
              "      <td>HHS</td>\n",
              "      <td>Department of Health and Human Services</td>\n",
              "      <td>Child and Adolescent Mental Health Clinic Serv...</td>\n",
              "      <td>Parttime-Regular</td>\n",
              "      <td>Medical Doctor IV - Psychiatrist</td>\n",
              "      <td>04/30/2001</td>\n",
              "      <td>2001</td>\n",
              "    </tr>\n",
              "    <tr>\n",
              "      <th>9226</th>\n",
              "      <td>M</td>\n",
              "      <td>CCL</td>\n",
              "      <td>County Council</td>\n",
              "      <td>Council Central Staff</td>\n",
              "      <td>Fulltime-Regular</td>\n",
              "      <td>Manager II</td>\n",
              "      <td>09/05/2006</td>\n",
              "      <td>2006</td>\n",
              "    </tr>\n",
              "    <tr>\n",
              "      <th>9227</th>\n",
              "      <td>M</td>\n",
              "      <td>DLC</td>\n",
              "      <td>Department of Liquor Control</td>\n",
              "      <td>Licensure, Regulation and Education</td>\n",
              "      <td>Fulltime-Regular</td>\n",
              "      <td>Alcohol/Tobacco Enforcement Specialist II</td>\n",
              "      <td>01/30/2012</td>\n",
              "      <td>2012</td>\n",
              "    </tr>\n",
              "  </tbody>\n",
              "</table>\n",
              "<p>9228 rows × 8 columns</p>\n",
              "</div>\n",
              "    <div class=\"colab-df-buttons\">\n",
              "\n",
              "  <div class=\"colab-df-container\">\n",
              "    <button class=\"colab-df-convert\" onclick=\"convertToInteractive('df-95528a7c-a381-40f5-b317-d67e0471159a')\"\n",
              "            title=\"Convert this dataframe to an interactive table.\"\n",
              "            style=\"display:none;\">\n",
              "\n",
              "  <svg xmlns=\"http://www.w3.org/2000/svg\" height=\"24px\" viewBox=\"0 -960 960 960\">\n",
              "    <path d=\"M120-120v-720h720v720H120Zm60-500h600v-160H180v160Zm220 220h160v-160H400v160Zm0 220h160v-160H400v160ZM180-400h160v-160H180v160Zm440 0h160v-160H620v160ZM180-180h160v-160H180v160Zm440 0h160v-160H620v160Z\"/>\n",
              "  </svg>\n",
              "    </button>\n",
              "\n",
              "  <style>\n",
              "    .colab-df-container {\n",
              "      display:flex;\n",
              "      gap: 12px;\n",
              "    }\n",
              "\n",
              "    .colab-df-convert {\n",
              "      background-color: #E8F0FE;\n",
              "      border: none;\n",
              "      border-radius: 50%;\n",
              "      cursor: pointer;\n",
              "      display: none;\n",
              "      fill: #1967D2;\n",
              "      height: 32px;\n",
              "      padding: 0 0 0 0;\n",
              "      width: 32px;\n",
              "    }\n",
              "\n",
              "    .colab-df-convert:hover {\n",
              "      background-color: #E2EBFA;\n",
              "      box-shadow: 0px 1px 2px rgba(60, 64, 67, 0.3), 0px 1px 3px 1px rgba(60, 64, 67, 0.15);\n",
              "      fill: #174EA6;\n",
              "    }\n",
              "\n",
              "    .colab-df-buttons div {\n",
              "      margin-bottom: 4px;\n",
              "    }\n",
              "\n",
              "    [theme=dark] .colab-df-convert {\n",
              "      background-color: #3B4455;\n",
              "      fill: #D2E3FC;\n",
              "    }\n",
              "\n",
              "    [theme=dark] .colab-df-convert:hover {\n",
              "      background-color: #434B5C;\n",
              "      box-shadow: 0px 1px 3px 1px rgba(0, 0, 0, 0.15);\n",
              "      filter: drop-shadow(0px 1px 2px rgba(0, 0, 0, 0.3));\n",
              "      fill: #FFFFFF;\n",
              "    }\n",
              "  </style>\n",
              "\n",
              "    <script>\n",
              "      const buttonEl =\n",
              "        document.querySelector('#df-95528a7c-a381-40f5-b317-d67e0471159a button.colab-df-convert');\n",
              "      buttonEl.style.display =\n",
              "        google.colab.kernel.accessAllowed ? 'block' : 'none';\n",
              "\n",
              "      async function convertToInteractive(key) {\n",
              "        const element = document.querySelector('#df-95528a7c-a381-40f5-b317-d67e0471159a');\n",
              "        const dataTable =\n",
              "          await google.colab.kernel.invokeFunction('convertToInteractive',\n",
              "                                                    [key], {});\n",
              "        if (!dataTable) return;\n",
              "\n",
              "        const docLinkHtml = 'Like what you see? Visit the ' +\n",
              "          '<a target=\"_blank\" href=https://colab.research.google.com/notebooks/data_table.ipynb>data table notebook</a>'\n",
              "          + ' to learn more about interactive tables.';\n",
              "        element.innerHTML = '';\n",
              "        dataTable['output_type'] = 'display_data';\n",
              "        await google.colab.output.renderOutput(dataTable, element);\n",
              "        const docLink = document.createElement('div');\n",
              "        docLink.innerHTML = docLinkHtml;\n",
              "        element.appendChild(docLink);\n",
              "      }\n",
              "    </script>\n",
              "  </div>\n",
              "\n",
              "\n",
              "<div id=\"df-8e302d56-5bc6-4f26-9eb4-817017c4b614\">\n",
              "  <button class=\"colab-df-quickchart\" onclick=\"quickchart('df-8e302d56-5bc6-4f26-9eb4-817017c4b614')\"\n",
              "            title=\"Suggest charts\"\n",
              "            style=\"display:none;\">\n",
              "\n",
              "<svg xmlns=\"http://www.w3.org/2000/svg\" height=\"24px\"viewBox=\"0 0 24 24\"\n",
              "     width=\"24px\">\n",
              "    <g>\n",
              "        <path d=\"M19 3H5c-1.1 0-2 .9-2 2v14c0 1.1.9 2 2 2h14c1.1 0 2-.9 2-2V5c0-1.1-.9-2-2-2zM9 17H7v-7h2v7zm4 0h-2V7h2v10zm4 0h-2v-4h2v4z\"/>\n",
              "    </g>\n",
              "</svg>\n",
              "  </button>\n",
              "\n",
              "<style>\n",
              "  .colab-df-quickchart {\n",
              "      --bg-color: #E8F0FE;\n",
              "      --fill-color: #1967D2;\n",
              "      --hover-bg-color: #E2EBFA;\n",
              "      --hover-fill-color: #174EA6;\n",
              "      --disabled-fill-color: #AAA;\n",
              "      --disabled-bg-color: #DDD;\n",
              "  }\n",
              "\n",
              "  [theme=dark] .colab-df-quickchart {\n",
              "      --bg-color: #3B4455;\n",
              "      --fill-color: #D2E3FC;\n",
              "      --hover-bg-color: #434B5C;\n",
              "      --hover-fill-color: #FFFFFF;\n",
              "      --disabled-bg-color: #3B4455;\n",
              "      --disabled-fill-color: #666;\n",
              "  }\n",
              "\n",
              "  .colab-df-quickchart {\n",
              "    background-color: var(--bg-color);\n",
              "    border: none;\n",
              "    border-radius: 50%;\n",
              "    cursor: pointer;\n",
              "    display: none;\n",
              "    fill: var(--fill-color);\n",
              "    height: 32px;\n",
              "    padding: 0;\n",
              "    width: 32px;\n",
              "  }\n",
              "\n",
              "  .colab-df-quickchart:hover {\n",
              "    background-color: var(--hover-bg-color);\n",
              "    box-shadow: 0 1px 2px rgba(60, 64, 67, 0.3), 0 1px 3px 1px rgba(60, 64, 67, 0.15);\n",
              "    fill: var(--button-hover-fill-color);\n",
              "  }\n",
              "\n",
              "  .colab-df-quickchart-complete:disabled,\n",
              "  .colab-df-quickchart-complete:disabled:hover {\n",
              "    background-color: var(--disabled-bg-color);\n",
              "    fill: var(--disabled-fill-color);\n",
              "    box-shadow: none;\n",
              "  }\n",
              "\n",
              "  .colab-df-spinner {\n",
              "    border: 2px solid var(--fill-color);\n",
              "    border-color: transparent;\n",
              "    border-bottom-color: var(--fill-color);\n",
              "    animation:\n",
              "      spin 1s steps(1) infinite;\n",
              "  }\n",
              "\n",
              "  @keyframes spin {\n",
              "    0% {\n",
              "      border-color: transparent;\n",
              "      border-bottom-color: var(--fill-color);\n",
              "      border-left-color: var(--fill-color);\n",
              "    }\n",
              "    20% {\n",
              "      border-color: transparent;\n",
              "      border-left-color: var(--fill-color);\n",
              "      border-top-color: var(--fill-color);\n",
              "    }\n",
              "    30% {\n",
              "      border-color: transparent;\n",
              "      border-left-color: var(--fill-color);\n",
              "      border-top-color: var(--fill-color);\n",
              "      border-right-color: var(--fill-color);\n",
              "    }\n",
              "    40% {\n",
              "      border-color: transparent;\n",
              "      border-right-color: var(--fill-color);\n",
              "      border-top-color: var(--fill-color);\n",
              "    }\n",
              "    60% {\n",
              "      border-color: transparent;\n",
              "      border-right-color: var(--fill-color);\n",
              "    }\n",
              "    80% {\n",
              "      border-color: transparent;\n",
              "      border-right-color: var(--fill-color);\n",
              "      border-bottom-color: var(--fill-color);\n",
              "    }\n",
              "    90% {\n",
              "      border-color: transparent;\n",
              "      border-bottom-color: var(--fill-color);\n",
              "    }\n",
              "  }\n",
              "</style>\n",
              "\n",
              "  <script>\n",
              "    async function quickchart(key) {\n",
              "      const quickchartButtonEl =\n",
              "        document.querySelector('#' + key + ' button');\n",
              "      quickchartButtonEl.disabled = true;  // To prevent multiple clicks.\n",
              "      quickchartButtonEl.classList.add('colab-df-spinner');\n",
              "      try {\n",
              "        const charts = await google.colab.kernel.invokeFunction(\n",
              "            'suggestCharts', [key], {});\n",
              "      } catch (error) {\n",
              "        console.error('Error during call to suggestCharts:', error);\n",
              "      }\n",
              "      quickchartButtonEl.classList.remove('colab-df-spinner');\n",
              "      quickchartButtonEl.classList.add('colab-df-quickchart-complete');\n",
              "    }\n",
              "    (() => {\n",
              "      let quickchartButtonEl =\n",
              "        document.querySelector('#df-8e302d56-5bc6-4f26-9eb4-817017c4b614 button');\n",
              "      quickchartButtonEl.style.display =\n",
              "        google.colab.kernel.accessAllowed ? 'block' : 'none';\n",
              "    })();\n",
              "  </script>\n",
              "</div>\n",
              "\n",
              "  <div id=\"id_1a71aa1f-481f-4b9a-b4f5-2a7facd3b6ec\">\n",
              "    <style>\n",
              "      .colab-df-generate {\n",
              "        background-color: #E8F0FE;\n",
              "        border: none;\n",
              "        border-radius: 50%;\n",
              "        cursor: pointer;\n",
              "        display: none;\n",
              "        fill: #1967D2;\n",
              "        height: 32px;\n",
              "        padding: 0 0 0 0;\n",
              "        width: 32px;\n",
              "      }\n",
              "\n",
              "      .colab-df-generate:hover {\n",
              "        background-color: #E2EBFA;\n",
              "        box-shadow: 0px 1px 2px rgba(60, 64, 67, 0.3), 0px 1px 3px 1px rgba(60, 64, 67, 0.15);\n",
              "        fill: #174EA6;\n",
              "      }\n",
              "\n",
              "      [theme=dark] .colab-df-generate {\n",
              "        background-color: #3B4455;\n",
              "        fill: #D2E3FC;\n",
              "      }\n",
              "\n",
              "      [theme=dark] .colab-df-generate:hover {\n",
              "        background-color: #434B5C;\n",
              "        box-shadow: 0px 1px 3px 1px rgba(0, 0, 0, 0.15);\n",
              "        filter: drop-shadow(0px 1px 2px rgba(0, 0, 0, 0.3));\n",
              "        fill: #FFFFFF;\n",
              "      }\n",
              "    </style>\n",
              "    <button class=\"colab-df-generate\" onclick=\"generateWithVariable('df')\"\n",
              "            title=\"Generate code using this dataframe.\"\n",
              "            style=\"display:none;\">\n",
              "\n",
              "  <svg xmlns=\"http://www.w3.org/2000/svg\" height=\"24px\"viewBox=\"0 0 24 24\"\n",
              "       width=\"24px\">\n",
              "    <path d=\"M7,19H8.4L18.45,9,17,7.55,7,17.6ZM5,21V16.75L18.45,3.32a2,2,0,0,1,2.83,0l1.4,1.43a1.91,1.91,0,0,1,.58,1.4,1.91,1.91,0,0,1-.58,1.4L9.25,21ZM18.45,9,17,7.55Zm-12,3A5.31,5.31,0,0,0,4.9,8.1,5.31,5.31,0,0,0,1,6.5,5.31,5.31,0,0,0,4.9,4.9,5.31,5.31,0,0,0,6.5,1,5.31,5.31,0,0,0,8.1,4.9,5.31,5.31,0,0,0,12,6.5,5.46,5.46,0,0,0,6.5,12Z\"/>\n",
              "  </svg>\n",
              "    </button>\n",
              "    <script>\n",
              "      (() => {\n",
              "      const buttonEl =\n",
              "        document.querySelector('#id_1a71aa1f-481f-4b9a-b4f5-2a7facd3b6ec button.colab-df-generate');\n",
              "      buttonEl.style.display =\n",
              "        google.colab.kernel.accessAllowed ? 'block' : 'none';\n",
              "\n",
              "      buttonEl.onclick = () => {\n",
              "        google.colab.notebook.generateWithVariable('df');\n",
              "      }\n",
              "      })();\n",
              "    </script>\n",
              "  </div>\n",
              "\n",
              "    </div>\n",
              "  </div>\n"
            ],
            "application/vnd.google.colaboratory.intrinsic+json": {
              "type": "dataframe",
              "variable_name": "df",
              "summary": "{\n  \"name\": \"df\",\n  \"rows\": 9228,\n  \"fields\": [\n    {\n      \"column\": \"gender\",\n      \"properties\": {\n        \"dtype\": \"category\",\n        \"num_unique_values\": 2,\n        \"samples\": [\n          \"M\",\n          \"F\"\n        ],\n        \"semantic_type\": \"\",\n        \"description\": \"\"\n      }\n    },\n    {\n      \"column\": \"department\",\n      \"properties\": {\n        \"dtype\": \"category\",\n        \"num_unique_values\": 37,\n        \"samples\": [\n          \"HRC\",\n          \"CEC\"\n        ],\n        \"semantic_type\": \"\",\n        \"description\": \"\"\n      }\n    },\n    {\n      \"column\": \"department_name\",\n      \"properties\": {\n        \"dtype\": \"category\",\n        \"num_unique_values\": 37,\n        \"samples\": [\n          \"Office of Human Rights\",\n          \"Community Engagement Cluster\"\n        ],\n        \"semantic_type\": \"\",\n        \"description\": \"\"\n      }\n    },\n    {\n      \"column\": \"division\",\n      \"properties\": {\n        \"dtype\": \"category\",\n        \"num_unique_values\": 694,\n        \"samples\": [\n          \"ETSD Network Services\",\n          \"Election Operations\"\n        ],\n        \"semantic_type\": \"\",\n        \"description\": \"\"\n      }\n    },\n    {\n      \"column\": \"assignment_category\",\n      \"properties\": {\n        \"dtype\": \"category\",\n        \"num_unique_values\": 2,\n        \"samples\": [\n          \"Parttime-Regular\",\n          \"Fulltime-Regular\"\n        ],\n        \"semantic_type\": \"\",\n        \"description\": \"\"\n      }\n    },\n    {\n      \"column\": \"employee_position_title\",\n      \"properties\": {\n        \"dtype\": \"category\",\n        \"num_unique_values\": 443,\n        \"samples\": [\n          \"Community Health Clinic Technician Leader\",\n          \"Transit Coordinator\"\n        ],\n        \"semantic_type\": \"\",\n        \"description\": \"\"\n      }\n    },\n    {\n      \"column\": \"date_first_hired\",\n      \"properties\": {\n        \"dtype\": \"object\",\n        \"num_unique_values\": 2264,\n        \"samples\": [\n          \"01/11/1987\",\n          \"03/13/2000\"\n        ],\n        \"semantic_type\": \"\",\n        \"description\": \"\"\n      }\n    },\n    {\n      \"column\": \"year_first_hired\",\n      \"properties\": {\n        \"dtype\": \"number\",\n        \"std\": 9,\n        \"min\": 1965,\n        \"max\": 2016,\n        \"num_unique_values\": 51,\n        \"samples\": [\n          1967,\n          1972\n        ],\n        \"semantic_type\": \"\",\n        \"description\": \"\"\n      }\n    }\n  ]\n}"
            }
          },
          "metadata": {},
          "execution_count": 10
        }
      ],
      "source": [
        "df"
      ]
    },
    {
      "cell_type": "markdown",
      "metadata": {
        "id": "jFHRvRCRU2yf"
      },
      "source": [
        "The |SV| is a transformer that turns this dataframe into a\n",
        "form suited for machine learning.\n",
        "\n",
        "Feeding it output to a powerful learner,\n",
        "such as gradient boosted trees, gives **a machine-learning method that\n",
        "can be readily applied to the dataframe**.\n",
        "\n"
      ]
    },
    {
      "cell_type": "code",
      "execution_count": 11,
      "metadata": {
        "id": "IqlAfgv9U2yf"
      },
      "outputs": [],
      "source": [
        "from skrub import TableVectorizer"
      ]
    },
    {
      "cell_type": "markdown",
      "metadata": {
        "id": "1If4tQzcU2yf"
      },
      "source": [
        "### Assembling the pipeline\n",
        "\n",
        "\n"
      ]
    },
    {
      "cell_type": "markdown",
      "metadata": {
        "id": "IUJE_J7-U2yf"
      },
      "source": [
        "We use the |SV| with a HistGradientBoostingRegressor, which is a good\n",
        "predictor for data with heterogeneous columns\n",
        "\n"
      ]
    },
    {
      "cell_type": "code",
      "execution_count": 12,
      "metadata": {
        "id": "_Y0dj0kvU2yf"
      },
      "outputs": [],
      "source": [
        "from sklearn.ensemble import HistGradientBoostingRegressor"
      ]
    },
    {
      "cell_type": "markdown",
      "metadata": {
        "id": "dALrxxxkU2yf"
      },
      "source": [
        "We then create a pipeline chaining our encoders to a learner\n",
        "\n"
      ]
    },
    {
      "cell_type": "code",
      "execution_count": 13,
      "metadata": {
        "id": "lNTvFquKU2yg",
        "colab": {
          "base_uri": "https://localhost:8080/",
          "height": 188
        },
        "outputId": "842b60ab-03f8-48fd-af9b-19f15f178950"
      },
      "outputs": [
        {
          "output_type": "execute_result",
          "data": {
            "text/plain": [
              "Pipeline(steps=[('tablevectorizer', TableVectorizer()),\n",
              "                ('histgradientboostingregressor',\n",
              "                 HistGradientBoostingRegressor())])"
            ],
            "text/html": [
              "<style>#sk-container-id-2 {color: black;background-color: white;}#sk-container-id-2 pre{padding: 0;}#sk-container-id-2 div.sk-toggleable {background-color: white;}#sk-container-id-2 label.sk-toggleable__label {cursor: pointer;display: block;width: 100%;margin-bottom: 0;padding: 0.3em;box-sizing: border-box;text-align: center;}#sk-container-id-2 label.sk-toggleable__label-arrow:before {content: \"▸\";float: left;margin-right: 0.25em;color: #696969;}#sk-container-id-2 label.sk-toggleable__label-arrow:hover:before {color: black;}#sk-container-id-2 div.sk-estimator:hover label.sk-toggleable__label-arrow:before {color: black;}#sk-container-id-2 div.sk-toggleable__content {max-height: 0;max-width: 0;overflow: hidden;text-align: left;background-color: #f0f8ff;}#sk-container-id-2 div.sk-toggleable__content pre {margin: 0.2em;color: black;border-radius: 0.25em;background-color: #f0f8ff;}#sk-container-id-2 input.sk-toggleable__control:checked~div.sk-toggleable__content {max-height: 200px;max-width: 100%;overflow: auto;}#sk-container-id-2 input.sk-toggleable__control:checked~label.sk-toggleable__label-arrow:before {content: \"▾\";}#sk-container-id-2 div.sk-estimator input.sk-toggleable__control:checked~label.sk-toggleable__label {background-color: #d4ebff;}#sk-container-id-2 div.sk-label input.sk-toggleable__control:checked~label.sk-toggleable__label {background-color: #d4ebff;}#sk-container-id-2 input.sk-hidden--visually {border: 0;clip: rect(1px 1px 1px 1px);clip: rect(1px, 1px, 1px, 1px);height: 1px;margin: -1px;overflow: hidden;padding: 0;position: absolute;width: 1px;}#sk-container-id-2 div.sk-estimator {font-family: monospace;background-color: #f0f8ff;border: 1px dotted black;border-radius: 0.25em;box-sizing: border-box;margin-bottom: 0.5em;}#sk-container-id-2 div.sk-estimator:hover {background-color: #d4ebff;}#sk-container-id-2 div.sk-parallel-item::after {content: \"\";width: 100%;border-bottom: 1px solid gray;flex-grow: 1;}#sk-container-id-2 div.sk-label:hover label.sk-toggleable__label {background-color: #d4ebff;}#sk-container-id-2 div.sk-serial::before {content: \"\";position: absolute;border-left: 1px solid gray;box-sizing: border-box;top: 0;bottom: 0;left: 50%;z-index: 0;}#sk-container-id-2 div.sk-serial {display: flex;flex-direction: column;align-items: center;background-color: white;padding-right: 0.2em;padding-left: 0.2em;position: relative;}#sk-container-id-2 div.sk-item {position: relative;z-index: 1;}#sk-container-id-2 div.sk-parallel {display: flex;align-items: stretch;justify-content: center;background-color: white;position: relative;}#sk-container-id-2 div.sk-item::before, #sk-container-id-2 div.sk-parallel-item::before {content: \"\";position: absolute;border-left: 1px solid gray;box-sizing: border-box;top: 0;bottom: 0;left: 50%;z-index: -1;}#sk-container-id-2 div.sk-parallel-item {display: flex;flex-direction: column;z-index: 1;position: relative;background-color: white;}#sk-container-id-2 div.sk-parallel-item:first-child::after {align-self: flex-end;width: 50%;}#sk-container-id-2 div.sk-parallel-item:last-child::after {align-self: flex-start;width: 50%;}#sk-container-id-2 div.sk-parallel-item:only-child::after {width: 0;}#sk-container-id-2 div.sk-dashed-wrapped {border: 1px dashed gray;margin: 0 0.4em 0.5em 0.4em;box-sizing: border-box;padding-bottom: 0.4em;background-color: white;}#sk-container-id-2 div.sk-label label {font-family: monospace;font-weight: bold;display: inline-block;line-height: 1.2em;}#sk-container-id-2 div.sk-label-container {text-align: center;}#sk-container-id-2 div.sk-container {/* jupyter's `normalize.less` sets `[hidden] { display: none; }` but bootstrap.min.css set `[hidden] { display: none !important; }` so we also need the `!important` here to be able to override the default hidden behavior on the sphinx rendered scikit-learn.org. See: https://github.com/scikit-learn/scikit-learn/issues/21755 */display: inline-block !important;position: relative;}#sk-container-id-2 div.sk-text-repr-fallback {display: none;}</style><div id=\"sk-container-id-2\" class=\"sk-top-container\"><div class=\"sk-text-repr-fallback\"><pre>Pipeline(steps=[(&#x27;tablevectorizer&#x27;, TableVectorizer()),\n",
              "                (&#x27;histgradientboostingregressor&#x27;,\n",
              "                 HistGradientBoostingRegressor())])</pre><b>In a Jupyter environment, please rerun this cell to show the HTML representation or trust the notebook. <br />On GitHub, the HTML representation is unable to render, please try loading this page with nbviewer.org.</b></div><div class=\"sk-container\" hidden><div class=\"sk-item sk-dashed-wrapped\"><div class=\"sk-label-container\"><div class=\"sk-label sk-toggleable\"><input class=\"sk-toggleable__control sk-hidden--visually\" id=\"sk-estimator-id-12\" type=\"checkbox\" ><label for=\"sk-estimator-id-12\" class=\"sk-toggleable__label sk-toggleable__label-arrow\">Pipeline</label><div class=\"sk-toggleable__content\"><pre>Pipeline(steps=[(&#x27;tablevectorizer&#x27;, TableVectorizer()),\n",
              "                (&#x27;histgradientboostingregressor&#x27;,\n",
              "                 HistGradientBoostingRegressor())])</pre></div></div></div><div class=\"sk-serial\"><div class=\"sk-item sk-dashed-wrapped\"><div class=\"sk-label-container\"><div class=\"sk-label sk-toggleable\"><input class=\"sk-toggleable__control sk-hidden--visually\" id=\"sk-estimator-id-13\" type=\"checkbox\" ><label for=\"sk-estimator-id-13\" class=\"sk-toggleable__label sk-toggleable__label-arrow\">tablevectorizer: TableVectorizer</label><div class=\"sk-toggleable__content\"><pre>TableVectorizer()</pre></div></div></div><div class=\"sk-parallel\"><div class=\"sk-parallel-item\"><div class=\"sk-item\"><div class=\"sk-label-container\"><div class=\"sk-label sk-toggleable\"><input class=\"sk-toggleable__control sk-hidden--visually\" id=\"sk-estimator-id-14\" type=\"checkbox\" ><label for=\"sk-estimator-id-14\" class=\"sk-toggleable__label sk-toggleable__label-arrow\">datetime: DatetimeEncoder</label><div class=\"sk-toggleable__content\"><pre>DatetimeEncoder()</pre></div></div></div><div class=\"sk-serial\"><div class=\"sk-item\"><div class=\"sk-estimator sk-toggleable\"><input class=\"sk-toggleable__control sk-hidden--visually\" id=\"sk-estimator-id-15\" type=\"checkbox\" ><label for=\"sk-estimator-id-15\" class=\"sk-toggleable__label sk-toggleable__label-arrow\">DatetimeEncoder</label><div class=\"sk-toggleable__content\"><pre>DatetimeEncoder()</pre></div></div></div></div></div></div><div class=\"sk-parallel-item\"><div class=\"sk-item\"><div class=\"sk-label-container\"><div class=\"sk-label sk-toggleable\"><input class=\"sk-toggleable__control sk-hidden--visually\" id=\"sk-estimator-id-16\" type=\"checkbox\" ><label for=\"sk-estimator-id-16\" class=\"sk-toggleable__label sk-toggleable__label-arrow\">high_cardinality: GapEncoder</label><div class=\"sk-toggleable__content\"><pre>GapEncoder(n_components=30)</pre></div></div></div><div class=\"sk-serial\"><div class=\"sk-item\"><div class=\"sk-estimator sk-toggleable\"><input class=\"sk-toggleable__control sk-hidden--visually\" id=\"sk-estimator-id-17\" type=\"checkbox\" ><label for=\"sk-estimator-id-17\" class=\"sk-toggleable__label sk-toggleable__label-arrow\">GapEncoder</label><div class=\"sk-toggleable__content\"><pre>GapEncoder(n_components=30)</pre></div></div></div></div></div></div><div class=\"sk-parallel-item\"><div class=\"sk-item\"><div class=\"sk-label-container\"><div class=\"sk-label sk-toggleable\"><input class=\"sk-toggleable__control sk-hidden--visually\" id=\"sk-estimator-id-18\" type=\"checkbox\" ><label for=\"sk-estimator-id-18\" class=\"sk-toggleable__label sk-toggleable__label-arrow\">low_cardinality: OneHotEncoder</label><div class=\"sk-toggleable__content\"><pre>OneHotEncoder(drop=&#x27;if_binary&#x27;, dtype=&#x27;float32&#x27;, handle_unknown=&#x27;ignore&#x27;,\n",
              "              sparse_output=False)</pre></div></div></div><div class=\"sk-serial\"><div class=\"sk-item\"><div class=\"sk-estimator sk-toggleable\"><input class=\"sk-toggleable__control sk-hidden--visually\" id=\"sk-estimator-id-19\" type=\"checkbox\" ><label for=\"sk-estimator-id-19\" class=\"sk-toggleable__label sk-toggleable__label-arrow\">OneHotEncoder</label><div class=\"sk-toggleable__content\"><pre>OneHotEncoder(drop=&#x27;if_binary&#x27;, dtype=&#x27;float32&#x27;, handle_unknown=&#x27;ignore&#x27;,\n",
              "              sparse_output=False)</pre></div></div></div></div></div></div><div class=\"sk-parallel-item\"><div class=\"sk-item\"><div class=\"sk-label-container\"><div class=\"sk-label sk-toggleable\"><input class=\"sk-toggleable__control sk-hidden--visually\" id=\"sk-estimator-id-20\" type=\"checkbox\" ><label for=\"sk-estimator-id-20\" class=\"sk-toggleable__label sk-toggleable__label-arrow\">numeric: PassThrough</label><div class=\"sk-toggleable__content\"><pre>PassThrough()</pre></div></div></div><div class=\"sk-serial\"><div class=\"sk-item\"><div class=\"sk-estimator sk-toggleable\"><input class=\"sk-toggleable__control sk-hidden--visually\" id=\"sk-estimator-id-21\" type=\"checkbox\" ><label for=\"sk-estimator-id-21\" class=\"sk-toggleable__label sk-toggleable__label-arrow\">PassThrough</label><div class=\"sk-toggleable__content\"><pre>PassThrough()</pre></div></div></div></div></div></div></div></div><div class=\"sk-item\"><div class=\"sk-estimator sk-toggleable\"><input class=\"sk-toggleable__control sk-hidden--visually\" id=\"sk-estimator-id-22\" type=\"checkbox\" ><label for=\"sk-estimator-id-22\" class=\"sk-toggleable__label sk-toggleable__label-arrow\">HistGradientBoostingRegressor</label><div class=\"sk-toggleable__content\"><pre>HistGradientBoostingRegressor()</pre></div></div></div></div></div></div></div>"
            ]
          },
          "metadata": {},
          "execution_count": 13
        }
      ],
      "source": [
        "from sklearn.pipeline import make_pipeline\n",
        "\n",
        "pipeline = make_pipeline(\n",
        "    TableVectorizer(),\n",
        "    HistGradientBoostingRegressor()\n",
        ")\n",
        "pipeline"
      ]
    },
    {
      "cell_type": "markdown",
      "metadata": {
        "id": "wt7f7SqrU2yg"
      },
      "source": [
        "Note that it is almost the same model as above (can you spot the\n",
        "differences)\n",
        "\n",
        "Let's perform a cross-validation to see how well this model predicts\n",
        "\n"
      ]
    },
    {
      "cell_type": "code",
      "execution_count": 14,
      "metadata": {
        "id": "ReOUiVqXU2yg",
        "colab": {
          "base_uri": "https://localhost:8080/"
        },
        "outputId": "3aa7a455-dea7-4b9e-a907-79cb432076eb"
      },
      "outputs": [
        {
          "output_type": "stream",
          "name": "stdout",
          "text": [
            "Prediction score: 0.9212243483861651\n",
            "Training time: 12.134786653518677\n"
          ]
        }
      ],
      "source": [
        "results = cross_validate(pipeline, df, y)\n",
        "print(f\"Prediction score: {np.mean(results['test_score'])}\")\n",
        "print(f\"Training time: {np.mean(results['fit_time'])}\")"
      ]
    },
    {
      "cell_type": "markdown",
      "metadata": {
        "id": "Gz0tU8YuU2yg"
      },
      "source": [
        "The prediction perform here is pretty much as good as above\n",
        "but the code here is much simpler as it does not involve specifying\n",
        "columns manually.\n",
        "\n"
      ]
    },
    {
      "cell_type": "markdown",
      "metadata": {
        "id": "d-1BcNYZU2yg"
      },
      "source": [
        "### Analyzing the features created\n",
        "\n",
        "Let us perform the same workflow, but without the `Pipeline`, so we can\n",
        "analyze its mechanisms along the way.\n",
        "\n"
      ]
    },
    {
      "cell_type": "code",
      "execution_count": 15,
      "metadata": {
        "id": "Tp7MII0ZU2yg"
      },
      "outputs": [],
      "source": [
        "tab_vec = TableVectorizer()"
      ]
    },
    {
      "cell_type": "markdown",
      "metadata": {
        "id": "Qcl8E7W3U2yg"
      },
      "source": [
        "We split the data between train and test, and transform them:\n",
        "\n"
      ]
    },
    {
      "cell_type": "code",
      "execution_count": 16,
      "metadata": {
        "id": "Ikf6lbBEU2yg"
      },
      "outputs": [],
      "source": [
        "from sklearn.model_selection import train_test_split\n",
        "df_train, df_test, y_train, y_test = train_test_split(\n",
        "    df, y, test_size=0.15, random_state=42\n",
        ")\n",
        "\n",
        "X_train_enc = tab_vec.fit_transform(df_train, y_train)\n",
        "X_test_enc = tab_vec.transform(df_test)"
      ]
    },
    {
      "cell_type": "markdown",
      "metadata": {
        "id": "Nc3hYXzgU2yg"
      },
      "source": [
        "The encoded data, X_train_enc and X_test_enc are numerical arrays:\n",
        "\n"
      ]
    },
    {
      "cell_type": "code",
      "execution_count": 17,
      "metadata": {
        "id": "x9vJrcoLU2yg",
        "colab": {
          "base_uri": "https://localhost:8080/",
          "height": 473
        },
        "outputId": "e71da5a3-f3d2-4f62-caae-2dff0be9e4e8"
      },
      "outputs": [
        {
          "output_type": "execute_result",
          "data": {
            "text/plain": [
              "      gender_F  gender_M  gender_nan  department_BOA  department_BOE  \\\n",
              "4405       0.0       1.0         0.0             0.0             0.0   \n",
              "5694       1.0       0.0         0.0             0.0             0.0   \n",
              "1516       1.0       0.0         0.0             0.0             0.0   \n",
              "8960       0.0       1.0         0.0             0.0             0.0   \n",
              "6108       0.0       1.0         0.0             0.0             0.0   \n",
              "...        ...       ...         ...             ...             ...   \n",
              "5734       0.0       1.0         0.0             0.0             0.0   \n",
              "5191       0.0       1.0         0.0             0.0             0.0   \n",
              "5390       1.0       0.0         0.0             0.0             0.0   \n",
              "860        0.0       1.0         0.0             0.0             0.0   \n",
              "7270       1.0       0.0         0.0             0.0             0.0   \n",
              "\n",
              "      department_CAT  department_CCL  department_CEC  department_CEX  \\\n",
              "4405             0.0             0.0             0.0             0.0   \n",
              "5694             0.0             0.0             0.0             0.0   \n",
              "1516             0.0             0.0             0.0             0.0   \n",
              "8960             0.0             0.0             0.0             0.0   \n",
              "6108             0.0             0.0             0.0             0.0   \n",
              "...              ...             ...             ...             ...   \n",
              "5734             0.0             0.0             0.0             0.0   \n",
              "5191             0.0             0.0             0.0             0.0   \n",
              "5390             0.0             0.0             0.0             0.0   \n",
              "860              0.0             0.0             0.0             0.0   \n",
              "7270             0.0             0.0             0.0             0.0   \n",
              "\n",
              "      department_COR  ...  employee_position_title: captain, chief, battalion  \\\n",
              "4405             0.0  ...                                           0.090986    \n",
              "5694             0.0  ...                                           0.051111    \n",
              "1516             0.0  ...                                           0.453222    \n",
              "8960             1.0  ...                                           0.068086    \n",
              "6108             0.0  ...                                           0.051961    \n",
              "...              ...  ...                                                ...    \n",
              "5734             0.0  ...                                           0.079390    \n",
              "5191             0.0  ...                                           0.401850    \n",
              "5390             0.0  ...                                           0.050466    \n",
              "860              0.0  ...                                           0.057308    \n",
              "7270             0.0  ...                                           0.050188    \n",
              "\n",
              "      employee_position_title: income, assistance, client  \\\n",
              "4405                                           0.203152     \n",
              "5694                                           0.054571     \n",
              "1516                                           0.053435     \n",
              "8960                                           0.073551     \n",
              "6108                                           0.054290     \n",
              "...                                                 ...     \n",
              "5734                                           0.051283     \n",
              "5191                                           0.100512     \n",
              "5390                                           0.062374     \n",
              "860                                            0.056175     \n",
              "7270                                           0.058014     \n",
              "\n",
              "      employee_position_title: planning, engineer, budget  \\\n",
              "4405                                          28.590433     \n",
              "5694                                           0.052015     \n",
              "1516                                          15.844386     \n",
              "8960                                           0.081208     \n",
              "6108                                           0.051400     \n",
              "...                                                 ...     \n",
              "5734                                           0.051365     \n",
              "5191                                           1.305234     \n",
              "5390                                           0.066189     \n",
              "860                                            0.056365     \n",
              "7270                                           0.058891     \n",
              "\n",
              "      employee_position_title: lieutenant, shift, commander  \\\n",
              "4405                                           0.076135       \n",
              "5694                                           0.051193       \n",
              "1516                                           0.090738       \n",
              "8960                                          31.635765       \n",
              "6108                                           0.052347       \n",
              "...                                                 ...       \n",
              "5734                                           0.069113       \n",
              "5191                                           0.183549       \n",
              "5390                                           0.052503       \n",
              "860                                            0.054840       \n",
              "7270                                           0.050016       \n",
              "\n",
              "      employee_position_title: sheriff, deputy, candidate  \\\n",
              "4405                                           0.401093     \n",
              "5694                                           0.057994     \n",
              "1516                                           0.050982     \n",
              "8960                                           1.992840     \n",
              "6108                                           0.056869     \n",
              "...                                                 ...     \n",
              "5734                                           0.051160     \n",
              "5191                                           0.073355     \n",
              "5390                                           0.076162     \n",
              "860                                            0.069407     \n",
              "7270                                           0.054744     \n",
              "\n",
              "      date_first_hired_year  date_first_hired_month  date_first_hired_day  \\\n",
              "4405                 2007.0                     8.0                   6.0   \n",
              "5694                 2005.0                     8.0                   8.0   \n",
              "1516                 2009.0                     4.0                  27.0   \n",
              "8960                 1997.0                     2.0                   3.0   \n",
              "6108                 2006.0                     1.0                  17.0   \n",
              "...                     ...                     ...                   ...   \n",
              "5734                 2005.0                     5.0                  16.0   \n",
              "5191                 2001.0                     8.0                   6.0   \n",
              "5390                 1990.0                     5.0                  31.0   \n",
              "860                  2012.0                    11.0                   5.0   \n",
              "7270                 2014.0                     6.0                  16.0   \n",
              "\n",
              "      date_first_hired_total_seconds  year_first_hired  \n",
              "4405                    1.186358e+09            2007.0  \n",
              "5694                    1.123459e+09            2005.0  \n",
              "1516                    1.240790e+09            2009.0  \n",
              "8960                    8.549280e+08            1997.0  \n",
              "6108                    1.137456e+09            2006.0  \n",
              "...                              ...               ...  \n",
              "5734                    1.116202e+09            2005.0  \n",
              "5191                    9.970560e+08            2001.0  \n",
              "5390                    6.441120e+08            1990.0  \n",
              "860                     1.352074e+09            2012.0  \n",
              "7270                    1.402877e+09            2014.0  \n",
              "\n",
              "[7843 rows x 143 columns]"
            ],
            "text/html": [
              "\n",
              "  <div id=\"df-e6502dff-0f01-4933-b8ff-4ca75662a43e\" class=\"colab-df-container\">\n",
              "    <div>\n",
              "<style scoped>\n",
              "    .dataframe tbody tr th:only-of-type {\n",
              "        vertical-align: middle;\n",
              "    }\n",
              "\n",
              "    .dataframe tbody tr th {\n",
              "        vertical-align: top;\n",
              "    }\n",
              "\n",
              "    .dataframe thead th {\n",
              "        text-align: right;\n",
              "    }\n",
              "</style>\n",
              "<table border=\"1\" class=\"dataframe\">\n",
              "  <thead>\n",
              "    <tr style=\"text-align: right;\">\n",
              "      <th></th>\n",
              "      <th>gender_F</th>\n",
              "      <th>gender_M</th>\n",
              "      <th>gender_nan</th>\n",
              "      <th>department_BOA</th>\n",
              "      <th>department_BOE</th>\n",
              "      <th>department_CAT</th>\n",
              "      <th>department_CCL</th>\n",
              "      <th>department_CEC</th>\n",
              "      <th>department_CEX</th>\n",
              "      <th>department_COR</th>\n",
              "      <th>...</th>\n",
              "      <th>employee_position_title: captain, chief, battalion</th>\n",
              "      <th>employee_position_title: income, assistance, client</th>\n",
              "      <th>employee_position_title: planning, engineer, budget</th>\n",
              "      <th>employee_position_title: lieutenant, shift, commander</th>\n",
              "      <th>employee_position_title: sheriff, deputy, candidate</th>\n",
              "      <th>date_first_hired_year</th>\n",
              "      <th>date_first_hired_month</th>\n",
              "      <th>date_first_hired_day</th>\n",
              "      <th>date_first_hired_total_seconds</th>\n",
              "      <th>year_first_hired</th>\n",
              "    </tr>\n",
              "  </thead>\n",
              "  <tbody>\n",
              "    <tr>\n",
              "      <th>4405</th>\n",
              "      <td>0.0</td>\n",
              "      <td>1.0</td>\n",
              "      <td>0.0</td>\n",
              "      <td>0.0</td>\n",
              "      <td>0.0</td>\n",
              "      <td>0.0</td>\n",
              "      <td>0.0</td>\n",
              "      <td>0.0</td>\n",
              "      <td>0.0</td>\n",
              "      <td>0.0</td>\n",
              "      <td>...</td>\n",
              "      <td>0.090986</td>\n",
              "      <td>0.203152</td>\n",
              "      <td>28.590433</td>\n",
              "      <td>0.076135</td>\n",
              "      <td>0.401093</td>\n",
              "      <td>2007.0</td>\n",
              "      <td>8.0</td>\n",
              "      <td>6.0</td>\n",
              "      <td>1.186358e+09</td>\n",
              "      <td>2007.0</td>\n",
              "    </tr>\n",
              "    <tr>\n",
              "      <th>5694</th>\n",
              "      <td>1.0</td>\n",
              "      <td>0.0</td>\n",
              "      <td>0.0</td>\n",
              "      <td>0.0</td>\n",
              "      <td>0.0</td>\n",
              "      <td>0.0</td>\n",
              "      <td>0.0</td>\n",
              "      <td>0.0</td>\n",
              "      <td>0.0</td>\n",
              "      <td>0.0</td>\n",
              "      <td>...</td>\n",
              "      <td>0.051111</td>\n",
              "      <td>0.054571</td>\n",
              "      <td>0.052015</td>\n",
              "      <td>0.051193</td>\n",
              "      <td>0.057994</td>\n",
              "      <td>2005.0</td>\n",
              "      <td>8.0</td>\n",
              "      <td>8.0</td>\n",
              "      <td>1.123459e+09</td>\n",
              "      <td>2005.0</td>\n",
              "    </tr>\n",
              "    <tr>\n",
              "      <th>1516</th>\n",
              "      <td>1.0</td>\n",
              "      <td>0.0</td>\n",
              "      <td>0.0</td>\n",
              "      <td>0.0</td>\n",
              "      <td>0.0</td>\n",
              "      <td>0.0</td>\n",
              "      <td>0.0</td>\n",
              "      <td>0.0</td>\n",
              "      <td>0.0</td>\n",
              "      <td>0.0</td>\n",
              "      <td>...</td>\n",
              "      <td>0.453222</td>\n",
              "      <td>0.053435</td>\n",
              "      <td>15.844386</td>\n",
              "      <td>0.090738</td>\n",
              "      <td>0.050982</td>\n",
              "      <td>2009.0</td>\n",
              "      <td>4.0</td>\n",
              "      <td>27.0</td>\n",
              "      <td>1.240790e+09</td>\n",
              "      <td>2009.0</td>\n",
              "    </tr>\n",
              "    <tr>\n",
              "      <th>8960</th>\n",
              "      <td>0.0</td>\n",
              "      <td>1.0</td>\n",
              "      <td>0.0</td>\n",
              "      <td>0.0</td>\n",
              "      <td>0.0</td>\n",
              "      <td>0.0</td>\n",
              "      <td>0.0</td>\n",
              "      <td>0.0</td>\n",
              "      <td>0.0</td>\n",
              "      <td>1.0</td>\n",
              "      <td>...</td>\n",
              "      <td>0.068086</td>\n",
              "      <td>0.073551</td>\n",
              "      <td>0.081208</td>\n",
              "      <td>31.635765</td>\n",
              "      <td>1.992840</td>\n",
              "      <td>1997.0</td>\n",
              "      <td>2.0</td>\n",
              "      <td>3.0</td>\n",
              "      <td>8.549280e+08</td>\n",
              "      <td>1997.0</td>\n",
              "    </tr>\n",
              "    <tr>\n",
              "      <th>6108</th>\n",
              "      <td>0.0</td>\n",
              "      <td>1.0</td>\n",
              "      <td>0.0</td>\n",
              "      <td>0.0</td>\n",
              "      <td>0.0</td>\n",
              "      <td>0.0</td>\n",
              "      <td>0.0</td>\n",
              "      <td>0.0</td>\n",
              "      <td>0.0</td>\n",
              "      <td>0.0</td>\n",
              "      <td>...</td>\n",
              "      <td>0.051961</td>\n",
              "      <td>0.054290</td>\n",
              "      <td>0.051400</td>\n",
              "      <td>0.052347</td>\n",
              "      <td>0.056869</td>\n",
              "      <td>2006.0</td>\n",
              "      <td>1.0</td>\n",
              "      <td>17.0</td>\n",
              "      <td>1.137456e+09</td>\n",
              "      <td>2006.0</td>\n",
              "    </tr>\n",
              "    <tr>\n",
              "      <th>...</th>\n",
              "      <td>...</td>\n",
              "      <td>...</td>\n",
              "      <td>...</td>\n",
              "      <td>...</td>\n",
              "      <td>...</td>\n",
              "      <td>...</td>\n",
              "      <td>...</td>\n",
              "      <td>...</td>\n",
              "      <td>...</td>\n",
              "      <td>...</td>\n",
              "      <td>...</td>\n",
              "      <td>...</td>\n",
              "      <td>...</td>\n",
              "      <td>...</td>\n",
              "      <td>...</td>\n",
              "      <td>...</td>\n",
              "      <td>...</td>\n",
              "      <td>...</td>\n",
              "      <td>...</td>\n",
              "      <td>...</td>\n",
              "      <td>...</td>\n",
              "    </tr>\n",
              "    <tr>\n",
              "      <th>5734</th>\n",
              "      <td>0.0</td>\n",
              "      <td>1.0</td>\n",
              "      <td>0.0</td>\n",
              "      <td>0.0</td>\n",
              "      <td>0.0</td>\n",
              "      <td>0.0</td>\n",
              "      <td>0.0</td>\n",
              "      <td>0.0</td>\n",
              "      <td>0.0</td>\n",
              "      <td>0.0</td>\n",
              "      <td>...</td>\n",
              "      <td>0.079390</td>\n",
              "      <td>0.051283</td>\n",
              "      <td>0.051365</td>\n",
              "      <td>0.069113</td>\n",
              "      <td>0.051160</td>\n",
              "      <td>2005.0</td>\n",
              "      <td>5.0</td>\n",
              "      <td>16.0</td>\n",
              "      <td>1.116202e+09</td>\n",
              "      <td>2005.0</td>\n",
              "    </tr>\n",
              "    <tr>\n",
              "      <th>5191</th>\n",
              "      <td>0.0</td>\n",
              "      <td>1.0</td>\n",
              "      <td>0.0</td>\n",
              "      <td>0.0</td>\n",
              "      <td>0.0</td>\n",
              "      <td>0.0</td>\n",
              "      <td>0.0</td>\n",
              "      <td>0.0</td>\n",
              "      <td>0.0</td>\n",
              "      <td>0.0</td>\n",
              "      <td>...</td>\n",
              "      <td>0.401850</td>\n",
              "      <td>0.100512</td>\n",
              "      <td>1.305234</td>\n",
              "      <td>0.183549</td>\n",
              "      <td>0.073355</td>\n",
              "      <td>2001.0</td>\n",
              "      <td>8.0</td>\n",
              "      <td>6.0</td>\n",
              "      <td>9.970560e+08</td>\n",
              "      <td>2001.0</td>\n",
              "    </tr>\n",
              "    <tr>\n",
              "      <th>5390</th>\n",
              "      <td>1.0</td>\n",
              "      <td>0.0</td>\n",
              "      <td>0.0</td>\n",
              "      <td>0.0</td>\n",
              "      <td>0.0</td>\n",
              "      <td>0.0</td>\n",
              "      <td>0.0</td>\n",
              "      <td>0.0</td>\n",
              "      <td>0.0</td>\n",
              "      <td>0.0</td>\n",
              "      <td>...</td>\n",
              "      <td>0.050466</td>\n",
              "      <td>0.062374</td>\n",
              "      <td>0.066189</td>\n",
              "      <td>0.052503</td>\n",
              "      <td>0.076162</td>\n",
              "      <td>1990.0</td>\n",
              "      <td>5.0</td>\n",
              "      <td>31.0</td>\n",
              "      <td>6.441120e+08</td>\n",
              "      <td>1990.0</td>\n",
              "    </tr>\n",
              "    <tr>\n",
              "      <th>860</th>\n",
              "      <td>0.0</td>\n",
              "      <td>1.0</td>\n",
              "      <td>0.0</td>\n",
              "      <td>0.0</td>\n",
              "      <td>0.0</td>\n",
              "      <td>0.0</td>\n",
              "      <td>0.0</td>\n",
              "      <td>0.0</td>\n",
              "      <td>0.0</td>\n",
              "      <td>0.0</td>\n",
              "      <td>...</td>\n",
              "      <td>0.057308</td>\n",
              "      <td>0.056175</td>\n",
              "      <td>0.056365</td>\n",
              "      <td>0.054840</td>\n",
              "      <td>0.069407</td>\n",
              "      <td>2012.0</td>\n",
              "      <td>11.0</td>\n",
              "      <td>5.0</td>\n",
              "      <td>1.352074e+09</td>\n",
              "      <td>2012.0</td>\n",
              "    </tr>\n",
              "    <tr>\n",
              "      <th>7270</th>\n",
              "      <td>1.0</td>\n",
              "      <td>0.0</td>\n",
              "      <td>0.0</td>\n",
              "      <td>0.0</td>\n",
              "      <td>0.0</td>\n",
              "      <td>0.0</td>\n",
              "      <td>0.0</td>\n",
              "      <td>0.0</td>\n",
              "      <td>0.0</td>\n",
              "      <td>0.0</td>\n",
              "      <td>...</td>\n",
              "      <td>0.050188</td>\n",
              "      <td>0.058014</td>\n",
              "      <td>0.058891</td>\n",
              "      <td>0.050016</td>\n",
              "      <td>0.054744</td>\n",
              "      <td>2014.0</td>\n",
              "      <td>6.0</td>\n",
              "      <td>16.0</td>\n",
              "      <td>1.402877e+09</td>\n",
              "      <td>2014.0</td>\n",
              "    </tr>\n",
              "  </tbody>\n",
              "</table>\n",
              "<p>7843 rows × 143 columns</p>\n",
              "</div>\n",
              "    <div class=\"colab-df-buttons\">\n",
              "\n",
              "  <div class=\"colab-df-container\">\n",
              "    <button class=\"colab-df-convert\" onclick=\"convertToInteractive('df-e6502dff-0f01-4933-b8ff-4ca75662a43e')\"\n",
              "            title=\"Convert this dataframe to an interactive table.\"\n",
              "            style=\"display:none;\">\n",
              "\n",
              "  <svg xmlns=\"http://www.w3.org/2000/svg\" height=\"24px\" viewBox=\"0 -960 960 960\">\n",
              "    <path d=\"M120-120v-720h720v720H120Zm60-500h600v-160H180v160Zm220 220h160v-160H400v160Zm0 220h160v-160H400v160ZM180-400h160v-160H180v160Zm440 0h160v-160H620v160ZM180-180h160v-160H180v160Zm440 0h160v-160H620v160Z\"/>\n",
              "  </svg>\n",
              "    </button>\n",
              "\n",
              "  <style>\n",
              "    .colab-df-container {\n",
              "      display:flex;\n",
              "      gap: 12px;\n",
              "    }\n",
              "\n",
              "    .colab-df-convert {\n",
              "      background-color: #E8F0FE;\n",
              "      border: none;\n",
              "      border-radius: 50%;\n",
              "      cursor: pointer;\n",
              "      display: none;\n",
              "      fill: #1967D2;\n",
              "      height: 32px;\n",
              "      padding: 0 0 0 0;\n",
              "      width: 32px;\n",
              "    }\n",
              "\n",
              "    .colab-df-convert:hover {\n",
              "      background-color: #E2EBFA;\n",
              "      box-shadow: 0px 1px 2px rgba(60, 64, 67, 0.3), 0px 1px 3px 1px rgba(60, 64, 67, 0.15);\n",
              "      fill: #174EA6;\n",
              "    }\n",
              "\n",
              "    .colab-df-buttons div {\n",
              "      margin-bottom: 4px;\n",
              "    }\n",
              "\n",
              "    [theme=dark] .colab-df-convert {\n",
              "      background-color: #3B4455;\n",
              "      fill: #D2E3FC;\n",
              "    }\n",
              "\n",
              "    [theme=dark] .colab-df-convert:hover {\n",
              "      background-color: #434B5C;\n",
              "      box-shadow: 0px 1px 3px 1px rgba(0, 0, 0, 0.15);\n",
              "      filter: drop-shadow(0px 1px 2px rgba(0, 0, 0, 0.3));\n",
              "      fill: #FFFFFF;\n",
              "    }\n",
              "  </style>\n",
              "\n",
              "    <script>\n",
              "      const buttonEl =\n",
              "        document.querySelector('#df-e6502dff-0f01-4933-b8ff-4ca75662a43e button.colab-df-convert');\n",
              "      buttonEl.style.display =\n",
              "        google.colab.kernel.accessAllowed ? 'block' : 'none';\n",
              "\n",
              "      async function convertToInteractive(key) {\n",
              "        const element = document.querySelector('#df-e6502dff-0f01-4933-b8ff-4ca75662a43e');\n",
              "        const dataTable =\n",
              "          await google.colab.kernel.invokeFunction('convertToInteractive',\n",
              "                                                    [key], {});\n",
              "        if (!dataTable) return;\n",
              "\n",
              "        const docLinkHtml = 'Like what you see? Visit the ' +\n",
              "          '<a target=\"_blank\" href=https://colab.research.google.com/notebooks/data_table.ipynb>data table notebook</a>'\n",
              "          + ' to learn more about interactive tables.';\n",
              "        element.innerHTML = '';\n",
              "        dataTable['output_type'] = 'display_data';\n",
              "        await google.colab.output.renderOutput(dataTable, element);\n",
              "        const docLink = document.createElement('div');\n",
              "        docLink.innerHTML = docLinkHtml;\n",
              "        element.appendChild(docLink);\n",
              "      }\n",
              "    </script>\n",
              "  </div>\n",
              "\n",
              "\n",
              "<div id=\"df-dbc605ca-b3c9-4d25-988a-c480ae61e13e\">\n",
              "  <button class=\"colab-df-quickchart\" onclick=\"quickchart('df-dbc605ca-b3c9-4d25-988a-c480ae61e13e')\"\n",
              "            title=\"Suggest charts\"\n",
              "            style=\"display:none;\">\n",
              "\n",
              "<svg xmlns=\"http://www.w3.org/2000/svg\" height=\"24px\"viewBox=\"0 0 24 24\"\n",
              "     width=\"24px\">\n",
              "    <g>\n",
              "        <path d=\"M19 3H5c-1.1 0-2 .9-2 2v14c0 1.1.9 2 2 2h14c1.1 0 2-.9 2-2V5c0-1.1-.9-2-2-2zM9 17H7v-7h2v7zm4 0h-2V7h2v10zm4 0h-2v-4h2v4z\"/>\n",
              "    </g>\n",
              "</svg>\n",
              "  </button>\n",
              "\n",
              "<style>\n",
              "  .colab-df-quickchart {\n",
              "      --bg-color: #E8F0FE;\n",
              "      --fill-color: #1967D2;\n",
              "      --hover-bg-color: #E2EBFA;\n",
              "      --hover-fill-color: #174EA6;\n",
              "      --disabled-fill-color: #AAA;\n",
              "      --disabled-bg-color: #DDD;\n",
              "  }\n",
              "\n",
              "  [theme=dark] .colab-df-quickchart {\n",
              "      --bg-color: #3B4455;\n",
              "      --fill-color: #D2E3FC;\n",
              "      --hover-bg-color: #434B5C;\n",
              "      --hover-fill-color: #FFFFFF;\n",
              "      --disabled-bg-color: #3B4455;\n",
              "      --disabled-fill-color: #666;\n",
              "  }\n",
              "\n",
              "  .colab-df-quickchart {\n",
              "    background-color: var(--bg-color);\n",
              "    border: none;\n",
              "    border-radius: 50%;\n",
              "    cursor: pointer;\n",
              "    display: none;\n",
              "    fill: var(--fill-color);\n",
              "    height: 32px;\n",
              "    padding: 0;\n",
              "    width: 32px;\n",
              "  }\n",
              "\n",
              "  .colab-df-quickchart:hover {\n",
              "    background-color: var(--hover-bg-color);\n",
              "    box-shadow: 0 1px 2px rgba(60, 64, 67, 0.3), 0 1px 3px 1px rgba(60, 64, 67, 0.15);\n",
              "    fill: var(--button-hover-fill-color);\n",
              "  }\n",
              "\n",
              "  .colab-df-quickchart-complete:disabled,\n",
              "  .colab-df-quickchart-complete:disabled:hover {\n",
              "    background-color: var(--disabled-bg-color);\n",
              "    fill: var(--disabled-fill-color);\n",
              "    box-shadow: none;\n",
              "  }\n",
              "\n",
              "  .colab-df-spinner {\n",
              "    border: 2px solid var(--fill-color);\n",
              "    border-color: transparent;\n",
              "    border-bottom-color: var(--fill-color);\n",
              "    animation:\n",
              "      spin 1s steps(1) infinite;\n",
              "  }\n",
              "\n",
              "  @keyframes spin {\n",
              "    0% {\n",
              "      border-color: transparent;\n",
              "      border-bottom-color: var(--fill-color);\n",
              "      border-left-color: var(--fill-color);\n",
              "    }\n",
              "    20% {\n",
              "      border-color: transparent;\n",
              "      border-left-color: var(--fill-color);\n",
              "      border-top-color: var(--fill-color);\n",
              "    }\n",
              "    30% {\n",
              "      border-color: transparent;\n",
              "      border-left-color: var(--fill-color);\n",
              "      border-top-color: var(--fill-color);\n",
              "      border-right-color: var(--fill-color);\n",
              "    }\n",
              "    40% {\n",
              "      border-color: transparent;\n",
              "      border-right-color: var(--fill-color);\n",
              "      border-top-color: var(--fill-color);\n",
              "    }\n",
              "    60% {\n",
              "      border-color: transparent;\n",
              "      border-right-color: var(--fill-color);\n",
              "    }\n",
              "    80% {\n",
              "      border-color: transparent;\n",
              "      border-right-color: var(--fill-color);\n",
              "      border-bottom-color: var(--fill-color);\n",
              "    }\n",
              "    90% {\n",
              "      border-color: transparent;\n",
              "      border-bottom-color: var(--fill-color);\n",
              "    }\n",
              "  }\n",
              "</style>\n",
              "\n",
              "  <script>\n",
              "    async function quickchart(key) {\n",
              "      const quickchartButtonEl =\n",
              "        document.querySelector('#' + key + ' button');\n",
              "      quickchartButtonEl.disabled = true;  // To prevent multiple clicks.\n",
              "      quickchartButtonEl.classList.add('colab-df-spinner');\n",
              "      try {\n",
              "        const charts = await google.colab.kernel.invokeFunction(\n",
              "            'suggestCharts', [key], {});\n",
              "      } catch (error) {\n",
              "        console.error('Error during call to suggestCharts:', error);\n",
              "      }\n",
              "      quickchartButtonEl.classList.remove('colab-df-spinner');\n",
              "      quickchartButtonEl.classList.add('colab-df-quickchart-complete');\n",
              "    }\n",
              "    (() => {\n",
              "      let quickchartButtonEl =\n",
              "        document.querySelector('#df-dbc605ca-b3c9-4d25-988a-c480ae61e13e button');\n",
              "      quickchartButtonEl.style.display =\n",
              "        google.colab.kernel.accessAllowed ? 'block' : 'none';\n",
              "    })();\n",
              "  </script>\n",
              "</div>\n",
              "\n",
              "  <div id=\"id_c01832ac-ab54-4342-8d79-81590c1880c7\">\n",
              "    <style>\n",
              "      .colab-df-generate {\n",
              "        background-color: #E8F0FE;\n",
              "        border: none;\n",
              "        border-radius: 50%;\n",
              "        cursor: pointer;\n",
              "        display: none;\n",
              "        fill: #1967D2;\n",
              "        height: 32px;\n",
              "        padding: 0 0 0 0;\n",
              "        width: 32px;\n",
              "      }\n",
              "\n",
              "      .colab-df-generate:hover {\n",
              "        background-color: #E2EBFA;\n",
              "        box-shadow: 0px 1px 2px rgba(60, 64, 67, 0.3), 0px 1px 3px 1px rgba(60, 64, 67, 0.15);\n",
              "        fill: #174EA6;\n",
              "      }\n",
              "\n",
              "      [theme=dark] .colab-df-generate {\n",
              "        background-color: #3B4455;\n",
              "        fill: #D2E3FC;\n",
              "      }\n",
              "\n",
              "      [theme=dark] .colab-df-generate:hover {\n",
              "        background-color: #434B5C;\n",
              "        box-shadow: 0px 1px 3px 1px rgba(0, 0, 0, 0.15);\n",
              "        filter: drop-shadow(0px 1px 2px rgba(0, 0, 0, 0.3));\n",
              "        fill: #FFFFFF;\n",
              "      }\n",
              "    </style>\n",
              "    <button class=\"colab-df-generate\" onclick=\"generateWithVariable('X_train_enc')\"\n",
              "            title=\"Generate code using this dataframe.\"\n",
              "            style=\"display:none;\">\n",
              "\n",
              "  <svg xmlns=\"http://www.w3.org/2000/svg\" height=\"24px\"viewBox=\"0 0 24 24\"\n",
              "       width=\"24px\">\n",
              "    <path d=\"M7,19H8.4L18.45,9,17,7.55,7,17.6ZM5,21V16.75L18.45,3.32a2,2,0,0,1,2.83,0l1.4,1.43a1.91,1.91,0,0,1,.58,1.4,1.91,1.91,0,0,1-.58,1.4L9.25,21ZM18.45,9,17,7.55Zm-12,3A5.31,5.31,0,0,0,4.9,8.1,5.31,5.31,0,0,0,1,6.5,5.31,5.31,0,0,0,4.9,4.9,5.31,5.31,0,0,0,6.5,1,5.31,5.31,0,0,0,8.1,4.9,5.31,5.31,0,0,0,12,6.5,5.46,5.46,0,0,0,6.5,12Z\"/>\n",
              "  </svg>\n",
              "    </button>\n",
              "    <script>\n",
              "      (() => {\n",
              "      const buttonEl =\n",
              "        document.querySelector('#id_c01832ac-ab54-4342-8d79-81590c1880c7 button.colab-df-generate');\n",
              "      buttonEl.style.display =\n",
              "        google.colab.kernel.accessAllowed ? 'block' : 'none';\n",
              "\n",
              "      buttonEl.onclick = () => {\n",
              "        google.colab.notebook.generateWithVariable('X_train_enc');\n",
              "      }\n",
              "      })();\n",
              "    </script>\n",
              "  </div>\n",
              "\n",
              "    </div>\n",
              "  </div>\n"
            ],
            "application/vnd.google.colaboratory.intrinsic+json": {
              "type": "dataframe",
              "variable_name": "X_train_enc"
            }
          },
          "metadata": {},
          "execution_count": 17
        }
      ],
      "source": [
        "X_train_enc"
      ]
    },
    {
      "cell_type": "markdown",
      "metadata": {
        "id": "NvcE7XvjU2yg"
      },
      "source": [
        "They have more columns than the original dataframe, but not much more:\n",
        "\n"
      ]
    },
    {
      "cell_type": "code",
      "execution_count": 18,
      "metadata": {
        "id": "BbOnUq3oU2yh",
        "colab": {
          "base_uri": "https://localhost:8080/"
        },
        "outputId": "be430fbe-870b-4daf-ceee-8e2ac5a6da01"
      },
      "outputs": [
        {
          "output_type": "execute_result",
          "data": {
            "text/plain": [
              "(7843, 143)"
            ]
          },
          "metadata": {},
          "execution_count": 18
        }
      ],
      "source": [
        "X_train_enc.shape"
      ]
    },
    {
      "cell_type": "markdown",
      "metadata": {
        "id": "BlEh9FKDU2yh"
      },
      "source": [
        "#### Inspecting the features created\n",
        "\n",
        "The |SV| assigns a transformer for each column. We can inspect this\n",
        "choice:\n",
        "\n"
      ]
    },
    {
      "cell_type": "code",
      "execution_count": 19,
      "metadata": {
        "id": "LrQtb0muU2yh",
        "colab": {
          "base_uri": "https://localhost:8080/"
        },
        "outputId": "8a30e053-065f-4c1d-9df7-63c7cb7eacf9"
      },
      "outputs": [
        {
          "output_type": "execute_result",
          "data": {
            "text/plain": [
              "{'year_first_hired': PassThrough(),\n",
              " 'date_first_hired': DatetimeEncoder(),\n",
              " 'gender': OneHotEncoder(drop='if_binary', dtype='float32', handle_unknown='ignore',\n",
              "               sparse_output=False),\n",
              " 'department': OneHotEncoder(drop='if_binary', dtype='float32', handle_unknown='ignore',\n",
              "               sparse_output=False),\n",
              " 'department_name': OneHotEncoder(drop='if_binary', dtype='float32', handle_unknown='ignore',\n",
              "               sparse_output=False),\n",
              " 'assignment_category': OneHotEncoder(drop='if_binary', dtype='float32', handle_unknown='ignore',\n",
              "               sparse_output=False),\n",
              " 'division': GapEncoder(n_components=30),\n",
              " 'employee_position_title': GapEncoder(n_components=30)}"
            ]
          },
          "metadata": {},
          "execution_count": 19
        }
      ],
      "source": [
        "tab_vec.transformers_"
      ]
    },
    {
      "cell_type": "markdown",
      "metadata": {
        "id": "AxPBBZuTU2yh"
      },
      "source": [
        "This is what is being passed to transform the different columns under the hood.\n",
        "We can notice it classified the columns \"gender\" and \"assignment_category\"\n",
        "as low cardinality string variables.\n",
        "A |OneHotEncoder| will be applied to these columns.\n",
        "\n",
        "The vectorizer actually makes the difference between string variables\n",
        "(data type ``object`` and ``string``) and categorical variables\n",
        "(data type ``category``).\n",
        "\n",
        "Next, we can have a look at the encoded feature names.\n",
        "\n",
        "Before encoding:\n",
        "\n"
      ]
    },
    {
      "cell_type": "code",
      "execution_count": 20,
      "metadata": {
        "id": "ndISD7ToU2yh",
        "colab": {
          "base_uri": "https://localhost:8080/"
        },
        "outputId": "0501383e-ec51-4368-e971-f8d92efb77ba"
      },
      "outputs": [
        {
          "output_type": "execute_result",
          "data": {
            "text/plain": [
              "['gender',\n",
              " 'department',\n",
              " 'department_name',\n",
              " 'division',\n",
              " 'assignment_category',\n",
              " 'employee_position_title',\n",
              " 'date_first_hired',\n",
              " 'year_first_hired']"
            ]
          },
          "metadata": {},
          "execution_count": 20
        }
      ],
      "source": [
        "df.columns.to_list()"
      ]
    },
    {
      "cell_type": "markdown",
      "metadata": {
        "id": "gYx_RnqkU2yh"
      },
      "source": [
        "After encoding (we only plot the first 8 feature names):\n",
        "\n"
      ]
    },
    {
      "cell_type": "code",
      "execution_count": 21,
      "metadata": {
        "id": "wHmc4iNoU2yh",
        "colab": {
          "base_uri": "https://localhost:8080/"
        },
        "outputId": "fa7fb962-14c2-48e1-dcf7-a501ff529bbc"
      },
      "outputs": [
        {
          "output_type": "execute_result",
          "data": {
            "text/plain": [
              "array(['gender_F', 'gender_M', 'gender_nan', 'department_BOA',\n",
              "       'department_BOE', 'department_CAT', 'department_CCL',\n",
              "       'department_CEC'], dtype='<U70')"
            ]
          },
          "metadata": {},
          "execution_count": 21
        }
      ],
      "source": [
        "feature_names = tab_vec.get_feature_names_out()\n",
        "feature_names[:8]"
      ]
    },
    {
      "cell_type": "markdown",
      "metadata": {
        "id": "5kTri-xzU2yh"
      },
      "source": [
        "As we can see, it created a new column for each unique value.\n",
        "This is because we used |SE| on the column \"division\",\n",
        "which was classified as a high cardinality string variable.\n",
        "(default values, see |SV|'s docstring).\n",
        "\n",
        "In total, we have reasonnable number of encoded columns.\n",
        "\n"
      ]
    },
    {
      "cell_type": "code",
      "execution_count": 22,
      "metadata": {
        "id": "aOf6iS5zU2yh",
        "colab": {
          "base_uri": "https://localhost:8080/"
        },
        "outputId": "18e81032-5b16-4286-8f3d-08a3a46a52ed"
      },
      "outputs": [
        {
          "output_type": "execute_result",
          "data": {
            "text/plain": [
              "143"
            ]
          },
          "metadata": {},
          "execution_count": 22
        }
      ],
      "source": [
        "len(feature_names)"
      ]
    },
    {
      "cell_type": "markdown",
      "metadata": {
        "id": "yyf7uso7U2yh"
      },
      "source": [
        "### Feature importance in the statistical model\n",
        "\n",
        "Here we consider interpretability, plot the feature importances of a\n",
        "classifier. We can do this because the |GapEncoder| leads to\n",
        "interpretable features even with messy categories\n",
        "\n",
        ".. topic:: Note:\n",
        "\n",
        "   To minimize compute time, use the feature importances computed by the\n",
        "   |RandomForestRegressor|, but you should prefer |permutation importances|\n",
        "   instead (which are less subject to biases)\n",
        "\n",
        "First, let's train the |RandomForestRegressor|,\n",
        "\n"
      ]
    },
    {
      "cell_type": "code",
      "execution_count": 23,
      "metadata": {
        "id": "HVdpPM82U2yh",
        "colab": {
          "base_uri": "https://localhost:8080/",
          "height": 74
        },
        "outputId": "2cc8d9da-c31f-4572-b5b0-b9c6d0f06a77"
      },
      "outputs": [
        {
          "output_type": "execute_result",
          "data": {
            "text/plain": [
              "RandomForestRegressor()"
            ],
            "text/html": [
              "<style>#sk-container-id-3 {color: black;background-color: white;}#sk-container-id-3 pre{padding: 0;}#sk-container-id-3 div.sk-toggleable {background-color: white;}#sk-container-id-3 label.sk-toggleable__label {cursor: pointer;display: block;width: 100%;margin-bottom: 0;padding: 0.3em;box-sizing: border-box;text-align: center;}#sk-container-id-3 label.sk-toggleable__label-arrow:before {content: \"▸\";float: left;margin-right: 0.25em;color: #696969;}#sk-container-id-3 label.sk-toggleable__label-arrow:hover:before {color: black;}#sk-container-id-3 div.sk-estimator:hover label.sk-toggleable__label-arrow:before {color: black;}#sk-container-id-3 div.sk-toggleable__content {max-height: 0;max-width: 0;overflow: hidden;text-align: left;background-color: #f0f8ff;}#sk-container-id-3 div.sk-toggleable__content pre {margin: 0.2em;color: black;border-radius: 0.25em;background-color: #f0f8ff;}#sk-container-id-3 input.sk-toggleable__control:checked~div.sk-toggleable__content {max-height: 200px;max-width: 100%;overflow: auto;}#sk-container-id-3 input.sk-toggleable__control:checked~label.sk-toggleable__label-arrow:before {content: \"▾\";}#sk-container-id-3 div.sk-estimator input.sk-toggleable__control:checked~label.sk-toggleable__label {background-color: #d4ebff;}#sk-container-id-3 div.sk-label input.sk-toggleable__control:checked~label.sk-toggleable__label {background-color: #d4ebff;}#sk-container-id-3 input.sk-hidden--visually {border: 0;clip: rect(1px 1px 1px 1px);clip: rect(1px, 1px, 1px, 1px);height: 1px;margin: -1px;overflow: hidden;padding: 0;position: absolute;width: 1px;}#sk-container-id-3 div.sk-estimator {font-family: monospace;background-color: #f0f8ff;border: 1px dotted black;border-radius: 0.25em;box-sizing: border-box;margin-bottom: 0.5em;}#sk-container-id-3 div.sk-estimator:hover {background-color: #d4ebff;}#sk-container-id-3 div.sk-parallel-item::after {content: \"\";width: 100%;border-bottom: 1px solid gray;flex-grow: 1;}#sk-container-id-3 div.sk-label:hover label.sk-toggleable__label {background-color: #d4ebff;}#sk-container-id-3 div.sk-serial::before {content: \"\";position: absolute;border-left: 1px solid gray;box-sizing: border-box;top: 0;bottom: 0;left: 50%;z-index: 0;}#sk-container-id-3 div.sk-serial {display: flex;flex-direction: column;align-items: center;background-color: white;padding-right: 0.2em;padding-left: 0.2em;position: relative;}#sk-container-id-3 div.sk-item {position: relative;z-index: 1;}#sk-container-id-3 div.sk-parallel {display: flex;align-items: stretch;justify-content: center;background-color: white;position: relative;}#sk-container-id-3 div.sk-item::before, #sk-container-id-3 div.sk-parallel-item::before {content: \"\";position: absolute;border-left: 1px solid gray;box-sizing: border-box;top: 0;bottom: 0;left: 50%;z-index: -1;}#sk-container-id-3 div.sk-parallel-item {display: flex;flex-direction: column;z-index: 1;position: relative;background-color: white;}#sk-container-id-3 div.sk-parallel-item:first-child::after {align-self: flex-end;width: 50%;}#sk-container-id-3 div.sk-parallel-item:last-child::after {align-self: flex-start;width: 50%;}#sk-container-id-3 div.sk-parallel-item:only-child::after {width: 0;}#sk-container-id-3 div.sk-dashed-wrapped {border: 1px dashed gray;margin: 0 0.4em 0.5em 0.4em;box-sizing: border-box;padding-bottom: 0.4em;background-color: white;}#sk-container-id-3 div.sk-label label {font-family: monospace;font-weight: bold;display: inline-block;line-height: 1.2em;}#sk-container-id-3 div.sk-label-container {text-align: center;}#sk-container-id-3 div.sk-container {/* jupyter's `normalize.less` sets `[hidden] { display: none; }` but bootstrap.min.css set `[hidden] { display: none !important; }` so we also need the `!important` here to be able to override the default hidden behavior on the sphinx rendered scikit-learn.org. See: https://github.com/scikit-learn/scikit-learn/issues/21755 */display: inline-block !important;position: relative;}#sk-container-id-3 div.sk-text-repr-fallback {display: none;}</style><div id=\"sk-container-id-3\" class=\"sk-top-container\"><div class=\"sk-text-repr-fallback\"><pre>RandomForestRegressor()</pre><b>In a Jupyter environment, please rerun this cell to show the HTML representation or trust the notebook. <br />On GitHub, the HTML representation is unable to render, please try loading this page with nbviewer.org.</b></div><div class=\"sk-container\" hidden><div class=\"sk-item\"><div class=\"sk-estimator sk-toggleable\"><input class=\"sk-toggleable__control sk-hidden--visually\" id=\"sk-estimator-id-23\" type=\"checkbox\" checked><label for=\"sk-estimator-id-23\" class=\"sk-toggleable__label sk-toggleable__label-arrow\">RandomForestRegressor</label><div class=\"sk-toggleable__content\"><pre>RandomForestRegressor()</pre></div></div></div></div></div>"
            ]
          },
          "metadata": {},
          "execution_count": 23
        }
      ],
      "source": [
        "from sklearn.ensemble import RandomForestRegressor\n",
        "regressor = RandomForestRegressor()\n",
        "regressor.fit(X_train_enc, y_train)"
      ]
    },
    {
      "cell_type": "markdown",
      "metadata": {
        "id": "cL0lkblZU2yh"
      },
      "source": [
        "Retrieving the feature importances\n",
        "\n"
      ]
    },
    {
      "cell_type": "code",
      "execution_count": 24,
      "metadata": {
        "id": "fW2_1usMU2yh"
      },
      "outputs": [],
      "source": [
        "importances = regressor.feature_importances_\n",
        "std = np.std(\n",
        "    [\n",
        "        tree.feature_importances_\n",
        "        for tree in regressor.estimators_\n",
        "    ],\n",
        "    axis=0\n",
        ")\n",
        "indices = np.argsort(importances)[::-1]"
      ]
    },
    {
      "cell_type": "markdown",
      "metadata": {
        "id": "X1QJiEFqU2yh"
      },
      "source": [
        "Plotting the results:\n",
        "\n"
      ]
    },
    {
      "cell_type": "code",
      "execution_count": 25,
      "metadata": {
        "id": "WDRiVNacU2yh",
        "colab": {
          "base_uri": "https://localhost:8080/",
          "height": 909
        },
        "outputId": "1245307c-0de1-4257-d876-6ed760117a9d"
      },
      "outputs": [
        {
          "output_type": "display_data",
          "data": {
            "text/plain": [
              "<Figure size 1200x900 with 1 Axes>"
            ],
            "image/png": "[encoded data removed]"
          },
          "metadata": {}
        }
      ],
      "source": [
        "import matplotlib.pyplot as plt\n",
        "plt.figure(figsize=(12, 9))\n",
        "plt.title(\"Feature importances\")\n",
        "n = 20\n",
        "n_indices = indices[:n]\n",
        "labels = np.array(feature_names)[n_indices]\n",
        "plt.barh(range(n), importances[n_indices], color=\"b\", yerr=std[n_indices])\n",
        "plt.yticks(range(n), labels, size=15)\n",
        "plt.tight_layout(pad=1)\n",
        "plt.show()"
      ]
    },
    {
      "cell_type": "markdown",
      "metadata": {
        "id": "EL0wFHFlU2yh"
      },
      "source": [
        "We can deduce from this data that the three factors that define the\n",
        "most the salary are: being hired for a long time, being a manager, and\n",
        "having a permanent, full-time job :).\n",
        "\n"
      ]
    },
    {
      "cell_type": "markdown",
      "metadata": {
        "id": "WfuyptMIU2yi"
      },
      "source": [
        "## Exploring different machine-learning pipeline to encode the data\n",
        "\n",
        "### The learning pipeline\n",
        "\n",
        "To build a learning pipeline, we need to assemble encoders for each\n",
        "column, and apply a supervised learning model on top.\n",
        "\n"
      ]
    },
    {
      "cell_type": "markdown",
      "metadata": {
        "id": "bqMMNenfU2yi"
      },
      "source": [
        "#### Encoding the table\n",
        "\n",
        "The TableVectorizer applies different transformations to the different\n",
        "columns to turn them into numerical values suitable for learning\n",
        "\n"
      ]
    },
    {
      "cell_type": "code",
      "execution_count": 26,
      "metadata": {
        "id": "s1g4muwgU2yi"
      },
      "outputs": [],
      "source": [
        "from skrub import TableVectorizer\n",
        "encoder = TableVectorizer()"
      ]
    },
    {
      "cell_type": "markdown",
      "metadata": {
        "id": "L15IEFYxU2yi"
      },
      "source": [
        "#### Pipelining an encoder with a learner\n",
        "\n",
        "Here again we use a pipeline with HistGradientBoostingRegressor\n",
        "\n"
      ]
    },
    {
      "cell_type": "code",
      "execution_count": 27,
      "metadata": {
        "id": "yU-0H0UtU2yi"
      },
      "outputs": [],
      "source": [
        "from sklearn.ensemble import HistGradientBoostingRegressor\n",
        "pipeline = make_pipeline(encoder, HistGradientBoostingRegressor())"
      ]
    },
    {
      "cell_type": "markdown",
      "metadata": {
        "id": "H_MtFTszU2yi"
      },
      "source": [
        "The pipeline can be readily applied to the dataframe for prediction\n",
        "\n"
      ]
    },
    {
      "cell_type": "code",
      "execution_count": 28,
      "metadata": {
        "id": "1FoYOMohU2yi"
      },
      "outputs": [],
      "source": [
        "pipeline.fit(df, y)\n",
        "\n",
        "# The categorical encoders\n",
        "# ........................\n",
        "#\n",
        "# A encoder is needed to turn a categorical column into a numerical\n",
        "# representation\n",
        "from sklearn.preprocessing import OneHotEncoder\n",
        "\n",
        "one_hot = OneHotEncoder(handle_unknown='ignore', sparse_output=False)"
      ]
    },
    {
      "cell_type": "markdown",
      "metadata": {
        "id": "Ec8iTUd1U2yi"
      },
      "source": [
        "### Dirty-category encoding\n",
        "\n",
        "The one-hot encoder is actually not well suited to the 'Employee\n",
        "Position Title' column, as this columns contains 400 different entries.\n",
        "\n",
        "We will now experiments with different encoders for dirty columns\n",
        "\n"
      ]
    },
    {
      "cell_type": "code",
      "source": [
        "!pip install scikit-learn --upgrade"
      ],
      "metadata": {
        "colab": {
          "base_uri": "https://localhost:8080/"
        },
        "id": "5EJrPd4XWGkJ",
        "outputId": "7e7795cd-fc60-4d18-cdfb-cca3165c1c05"
      },
      "execution_count": 50,
      "outputs": [
        {
          "output_type": "stream",
          "name": "stdout",
          "text": [
            "Collecting scikit-learn\n",
            "  Downloading scikit_learn-1.5.1-cp310-cp310-manylinux_2_17_x86_64.manylinux2014_x86_64.whl (13.4 MB)\n",
            "\u001b[2K     \u001b[90m━━━━━━━━━━━━━━━━━━━━━━━━━━━━━━━━━━━━━━━━\u001b[0m \u001b[32m13.4/13.4 MB\u001b[0m \u001b[31m43.7 MB/s\u001b[0m eta \u001b[36m0:00:00\u001b[0m\n",
            "\u001b[?25hRequirement already satisfied: numpy>=1.19.5 in /usr/local/lib/python3.10/dist-packages (from scikit-learn) (1.25.2)\n",
            "Requirement already satisfied: scipy>=1.6.0 in /usr/local/lib/python3.10/dist-packages (from scikit-learn) (1.11.4)\n",
            "Requirement already satisfied: joblib>=1.2.0 in /usr/local/lib/python3.10/dist-packages (from scikit-learn) (1.4.2)\n",
            "Requirement already satisfied: threadpoolctl>=3.1.0 in /usr/local/lib/python3.10/dist-packages (from scikit-learn) (3.5.0)\n",
            "Installing collected packages: scikit-learn\n",
            "Successfully installed scikit-learn-1.5.1\n"
          ]
        }
      ]
    },
    {
      "cell_type": "code",
      "source": [
        "import sklearn\n",
        "from sklearn import preprocessing\n",
        "from skrub import SimilarityEncoder, MinHashEncoder,\\\n",
        "    GapEncoder\n",
        "from sklearn.preprocessing import TargetEncoder"
      ],
      "metadata": {
        "colab": {
          "base_uri": "https://localhost:8080/",
          "height": 344
        },
        "id": "2ps7DnVDWLcb",
        "outputId": "27e51d29-8c38-4b30-9140-53e852ffe2af"
      },
      "execution_count": 54,
      "outputs": [
        {
          "output_type": "error",
          "ename": "ImportError",
          "evalue": "cannot import name 'TargetEncoder' from 'sklearn.preprocessing' (/usr/local/lib/python3.10/dist-packages/sklearn/preprocessing/__init__.py)",
          "traceback": [
            "\u001b[0;31m---------------------------------------------------------------------------\u001b[0m",
            "\u001b[0;31mImportError\u001b[0m                               Traceback (most recent call last)",
            "\u001b[0;32m<ipython-input-54-4812164fd3de>\u001b[0m in \u001b[0;36m<cell line: 5>\u001b[0;34m()\u001b[0m\n\u001b[1;32m      3\u001b[0m \u001b[0;32mfrom\u001b[0m \u001b[0mskrub\u001b[0m \u001b[0;32mimport\u001b[0m \u001b[0mSimilarityEncoder\u001b[0m\u001b[0;34m,\u001b[0m \u001b[0mMinHashEncoder\u001b[0m\u001b[0;34m,\u001b[0m\u001b[0;31m\\\u001b[0m\u001b[0;34m\u001b[0m\u001b[0;34m\u001b[0m\u001b[0m\n\u001b[1;32m      4\u001b[0m     \u001b[0mGapEncoder\u001b[0m\u001b[0;34m\u001b[0m\u001b[0;34m\u001b[0m\u001b[0m\n\u001b[0;32m----> 5\u001b[0;31m \u001b[0;32mfrom\u001b[0m \u001b[0msklearn\u001b[0m\u001b[0;34m.\u001b[0m\u001b[0mpreprocessing\u001b[0m \u001b[0;32mimport\u001b[0m \u001b[0mTargetEncoder\u001b[0m\u001b[0;34m\u001b[0m\u001b[0;34m\u001b[0m\u001b[0m\n\u001b[0m",
            "\u001b[0;31mImportError\u001b[0m: cannot import name 'TargetEncoder' from 'sklearn.preprocessing' (/usr/local/lib/python3.10/dist-packages/sklearn/preprocessing/__init__.py)",
            "",
            "\u001b[0;31m---------------------------------------------------------------------------\u001b[0;32m\nNOTE: If your import is failing due to a missing package, you can\nmanually install dependencies using either !pip or !apt.\n\nTo view examples of installing some common dependencies, click the\n\"Open Examples\" button below.\n\u001b[0;31m---------------------------------------------------------------------------\u001b[0m\n"
          ],
          "errorDetails": {
            "actions": [
              {
                "action": "open_url",
                "actionText": "Open Examples",
                "url": "/notebooks/snippets/importing_libraries.ipynb"
              }
            ]
          }
        }
      ]
    },
    {
      "cell_type": "code",
      "execution_count": 40,
      "metadata": {
        "id": "1M8AT7HxU2yi",
        "colab": {
          "base_uri": "https://localhost:8080/",
          "height": 207
        },
        "outputId": "3e7c587f-ab0b-4938-e5ba-6faa6c6be928"
      },
      "outputs": [
        {
          "output_type": "error",
          "ename": "NameError",
          "evalue": "name 'TargetEncoder' is not defined",
          "traceback": [
            "\u001b[0;31m---------------------------------------------------------------------------\u001b[0m",
            "\u001b[0;31mNameError\u001b[0m                                 Traceback (most recent call last)",
            "\u001b[0;32m<ipython-input-40-124d073bfa92>\u001b[0m in \u001b[0;36m<cell line: 2>\u001b[0;34m()\u001b[0m\n\u001b[1;32m      1\u001b[0m \u001b[0msimilarity\u001b[0m \u001b[0;34m=\u001b[0m \u001b[0mSimilarityEncoder\u001b[0m\u001b[0;34m(\u001b[0m\u001b[0;34m)\u001b[0m\u001b[0;34m\u001b[0m\u001b[0;34m\u001b[0m\u001b[0m\n\u001b[0;32m----> 2\u001b[0;31m \u001b[0mtarget\u001b[0m \u001b[0;34m=\u001b[0m \u001b[0mTargetEncoder\u001b[0m\u001b[0;34m(\u001b[0m\u001b[0;34m)\u001b[0m\u001b[0;34m\u001b[0m\u001b[0;34m\u001b[0m\u001b[0m\n\u001b[0m\u001b[1;32m      3\u001b[0m \u001b[0mminhash\u001b[0m \u001b[0;34m=\u001b[0m \u001b[0mMinHashEncoder\u001b[0m\u001b[0;34m(\u001b[0m\u001b[0mn_components\u001b[0m\u001b[0;34m=\u001b[0m\u001b[0;36m100\u001b[0m\u001b[0;34m)\u001b[0m\u001b[0;34m\u001b[0m\u001b[0;34m\u001b[0m\u001b[0m\n\u001b[1;32m      4\u001b[0m \u001b[0mgap\u001b[0m \u001b[0;34m=\u001b[0m \u001b[0mGapEncoder\u001b[0m\u001b[0;34m(\u001b[0m\u001b[0mn_components\u001b[0m\u001b[0;34m=\u001b[0m\u001b[0;36m100\u001b[0m\u001b[0;34m)\u001b[0m\u001b[0;34m\u001b[0m\u001b[0;34m\u001b[0m\u001b[0m\n\u001b[1;32m      5\u001b[0m \u001b[0;34m\u001b[0m\u001b[0m\n",
            "\u001b[0;31mNameError\u001b[0m: name 'TargetEncoder' is not defined"
          ]
        }
      ],
      "source": [
        "\n",
        "similarity = SimilarityEncoder()\n",
        "target = TargetEncoder()\n",
        "minhash = MinHashEncoder(n_components=100)\n",
        "gap = GapEncoder(n_components=100)\n",
        "\n",
        "encoders = {\n",
        "    'one-hot': one_hot,\n",
        "    'similarity': similarity,\n",
        "    'target': target,\n",
        "    'minhash': minhash,\n",
        "    'gap': gap}"
      ]
    },
    {
      "cell_type": "markdown",
      "metadata": {
        "id": "mFfailkjU2yi"
      },
      "source": [
        "We now loop over the different encoding methods,\n",
        "instantiate each time a new pipeline, fit it\n",
        "and store the returned cross-validation score:\n",
        "\n"
      ]
    },
    {
      "cell_type": "code",
      "execution_count": null,
      "metadata": {
        "id": "qvKyNSY2U2yi"
      },
      "outputs": [],
      "source": [
        "all_scores = dict()\n",
        "\n",
        "for name, method in encoders.items():\n",
        "    encoder = TableVectorizer(high_cardinality=method)\n",
        "\n",
        "    pipeline = make_pipeline(encoder, HistGradientBoostingRegressor())\n",
        "    scores = cross_validate(pipeline, df, y)\n",
        "    print('{} encoding'.format(name))\n",
        "    print('r2 score:  mean: {:.3f}; std: {:.3f}'.format(\n",
        "        np.mean(scores['test_score']), np.std(scores['test_score'])))\n",
        "    print('time:  {:.3f}\\n'.format(\n",
        "        np.mean(scores['fit_time'])))\n",
        "    all_scores[name] = scores['test_score']"
      ]
    },
    {
      "cell_type": "markdown",
      "metadata": {
        "id": "7LAfAF19U2yi"
      },
      "source": [
        "Note that the time it takes to fit varies also a lot, and not only the\n",
        "prediction score\n",
        "\n"
      ]
    },
    {
      "cell_type": "markdown",
      "metadata": {
        "id": "n6yi9TzCU2yi"
      },
      "source": [
        "#### Plotting the results\n",
        "Finally, we plot the scores on a boxplot:\n",
        "\n"
      ]
    },
    {
      "cell_type": "code",
      "execution_count": null,
      "metadata": {
        "id": "n2CKnZOBU2yi"
      },
      "outputs": [],
      "source": [
        "import seaborn\n",
        "import matplotlib.pyplot as plt\n",
        "plt.figure(figsize=(4, 3))\n",
        "ax = seaborn.boxplot(data=pd.DataFrame(all_scores), orient='h')\n",
        "plt.ylabel('Encoding', size=20)\n",
        "plt.xlabel('Prediction accuracy     ', size=20)\n",
        "plt.yticks(size=20)\n",
        "plt.tight_layout()"
      ]
    },
    {
      "cell_type": "markdown",
      "metadata": {
        "id": "yi5x7JKvU2yi"
      },
      "source": [
        "The clear trend is that encoders that use the string form\n",
        "of the category (similarity, minhash, and gap) perform better than\n",
        "those that discard it.\n",
        "\n",
        "SimilarityEncoder is the best performer, but it is less scalable on big\n",
        "data than MinHashEncoder and GapEncoder. The most scalable encoder is\n",
        "the MinHashEncoder. GapEncoder, on the other hand, has the benefit that\n",
        "it provides interpretable features, as shown above\n",
        "\n",
        "|\n",
        "\n",
        "\n",
        ".. topic:: The TableVectorizer automates preprocessing\n",
        "\n",
        "  As this notebook demonstrates, many preprocessing steps can be\n",
        "  automated by the |SV|, and the resulting pipeline can still be\n",
        "  inspected, even with non-normalized entries.\n",
        "\n",
        "\n"
      ]
    }
  ],
  "metadata": {
    "kernelspec": {
      "display_name": "Python 3",
      "language": "python",
      "name": "python3"
    },
    "language_info": {
      "codemirror_mode": {
        "name": "ipython",
        "version": 3
      },
      "file_extension": ".py",
      "mimetype": "text/x-python",
      "name": "python",
      "nbconvert_exporter": "python",
      "pygments_lexer": "ipython3",
      "version": "3.12.3"
    },
    "colab": {
      "provenance": [],
      "include_colab_link": true
    }
  },
  "nbformat": 4,
  "nbformat_minor": 0
}